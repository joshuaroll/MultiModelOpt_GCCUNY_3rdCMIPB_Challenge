{
 "cells": [
  {
   "cell_type": "code",
   "execution_count": 2,
   "id": "e86da882",
   "metadata": {},
   "outputs": [],
   "source": [
    "import numpy as np\n",
    "import pandas as pd"
   ]
  },
  {
   "cell_type": "markdown",
   "id": "b4e68d46",
   "metadata": {},
   "source": [
    "# Processing abtier dataset"
   ]
  },
  {
   "cell_type": "code",
   "execution_count": 1,
   "id": "6db4c146",
   "metadata": {},
   "outputs": [
    {
     "data": {
      "text/html": [
       "<div>\n",
       "<style scoped>\n",
       "    .dataframe tbody tr th:only-of-type {\n",
       "        vertical-align: middle;\n",
       "    }\n",
       "\n",
       "    .dataframe tbody tr th {\n",
       "        vertical-align: top;\n",
       "    }\n",
       "\n",
       "    .dataframe thead th {\n",
       "        text-align: right;\n",
       "    }\n",
       "</style>\n",
       "<table border=\"1\" class=\"dataframe\">\n",
       "  <thead>\n",
       "    <tr style=\"text-align: right;\">\n",
       "      <th></th>\n",
       "      <th>IgG_FHA</th>\n",
       "      <th>IgG_PRN</th>\n",
       "      <th>IgG_PT</th>\n",
       "      <th>IgG1_DT</th>\n",
       "      <th>IgG1_FHA</th>\n",
       "      <th>IgG1_FIM2/3</th>\n",
       "      <th>IgG1_OVA</th>\n",
       "      <th>IgG1_PRN</th>\n",
       "      <th>IgG1_PT</th>\n",
       "      <th>IgG1_TT</th>\n",
       "      <th>...</th>\n",
       "      <th>IgG3_PRN</th>\n",
       "      <th>IgG3_PT</th>\n",
       "      <th>IgG3_TT</th>\n",
       "      <th>IgG4_DT</th>\n",
       "      <th>IgG4_FHA</th>\n",
       "      <th>IgG4_FIM2/3</th>\n",
       "      <th>IgG4_OVA</th>\n",
       "      <th>IgG4_PRN</th>\n",
       "      <th>IgG4_PT</th>\n",
       "      <th>IgG4_TT</th>\n",
       "    </tr>\n",
       "    <tr>\n",
       "      <th>specimen_id</th>\n",
       "      <th></th>\n",
       "      <th></th>\n",
       "      <th></th>\n",
       "      <th></th>\n",
       "      <th></th>\n",
       "      <th></th>\n",
       "      <th></th>\n",
       "      <th></th>\n",
       "      <th></th>\n",
       "      <th></th>\n",
       "      <th></th>\n",
       "      <th></th>\n",
       "      <th></th>\n",
       "      <th></th>\n",
       "      <th></th>\n",
       "      <th></th>\n",
       "      <th></th>\n",
       "      <th></th>\n",
       "      <th></th>\n",
       "      <th></th>\n",
       "      <th></th>\n",
       "    </tr>\n",
       "  </thead>\n",
       "  <tbody>\n",
       "    <tr>\n",
       "      <th>1474</th>\n",
       "      <td>0.004868</td>\n",
       "      <td>2.099263</td>\n",
       "      <td>2.453408</td>\n",
       "      <td>1.053484</td>\n",
       "      <td>0.027255</td>\n",
       "      <td>0.011155</td>\n",
       "      <td>2.024691</td>\n",
       "      <td>2.458658</td>\n",
       "      <td>4.964029</td>\n",
       "      <td>1.816143</td>\n",
       "      <td>...</td>\n",
       "      <td>2.981651</td>\n",
       "      <td>1.500000</td>\n",
       "      <td>2.324324</td>\n",
       "      <td>0.202040</td>\n",
       "      <td>0.495902</td>\n",
       "      <td>0.472727</td>\n",
       "      <td>1.016393</td>\n",
       "      <td>0.167665</td>\n",
       "      <td>0.562500</td>\n",
       "      <td>0.257426</td>\n",
       "    </tr>\n",
       "    <tr>\n",
       "      <th>1037</th>\n",
       "      <td>0.997567</td>\n",
       "      <td>2.566912</td>\n",
       "      <td>1.021997</td>\n",
       "      <td>1.602926</td>\n",
       "      <td>1.436129</td>\n",
       "      <td>6.787705</td>\n",
       "      <td>5.212903</td>\n",
       "      <td>2.303418</td>\n",
       "      <td>1.000000</td>\n",
       "      <td>1.305432</td>\n",
       "      <td>...</td>\n",
       "      <td>84.535912</td>\n",
       "      <td>1.314286</td>\n",
       "      <td>1.038168</td>\n",
       "      <td>0.660739</td>\n",
       "      <td>0.754902</td>\n",
       "      <td>2.920000</td>\n",
       "      <td>4.797297</td>\n",
       "      <td>0.787879</td>\n",
       "      <td>1.125000</td>\n",
       "      <td>0.159812</td>\n",
       "    </tr>\n",
       "    <tr>\n",
       "      <th>1310</th>\n",
       "      <td>1.455296</td>\n",
       "      <td>0.262585</td>\n",
       "      <td>3.820643</td>\n",
       "      <td>0.053695</td>\n",
       "      <td>0.812670</td>\n",
       "      <td>14.786942</td>\n",
       "      <td>0.206452</td>\n",
       "      <td>0.072920</td>\n",
       "      <td>2.714286</td>\n",
       "      <td>0.005327</td>\n",
       "      <td>...</td>\n",
       "      <td>0.646409</td>\n",
       "      <td>0.742857</td>\n",
       "      <td>0.427481</td>\n",
       "      <td>0.093023</td>\n",
       "      <td>1.610294</td>\n",
       "      <td>38.560000</td>\n",
       "      <td>0.023874</td>\n",
       "      <td>0.530303</td>\n",
       "      <td>1.250000</td>\n",
       "      <td>0.065805</td>\n",
       "    </tr>\n",
       "    <tr>\n",
       "      <th>1269</th>\n",
       "      <td>0.102288</td>\n",
       "      <td>0.066482</td>\n",
       "      <td>0.426396</td>\n",
       "      <td>0.252301</td>\n",
       "      <td>0.637104</td>\n",
       "      <td>1.250859</td>\n",
       "      <td>0.215054</td>\n",
       "      <td>1.343446</td>\n",
       "      <td>0.452381</td>\n",
       "      <td>0.137712</td>\n",
       "      <td>...</td>\n",
       "      <td>0.281768</td>\n",
       "      <td>1.257143</td>\n",
       "      <td>0.732824</td>\n",
       "      <td>0.388167</td>\n",
       "      <td>0.275735</td>\n",
       "      <td>0.630000</td>\n",
       "      <td>0.050901</td>\n",
       "      <td>0.454545</td>\n",
       "      <td>0.437500</td>\n",
       "      <td>0.049354</td>\n",
       "    </tr>\n",
       "    <tr>\n",
       "      <th>1181</th>\n",
       "      <td>1.316665</td>\n",
       "      <td>0.138759</td>\n",
       "      <td>1.434856</td>\n",
       "      <td>1.339634</td>\n",
       "      <td>0.941455</td>\n",
       "      <td>1.151203</td>\n",
       "      <td>28.649462</td>\n",
       "      <td>0.031902</td>\n",
       "      <td>1.035714</td>\n",
       "      <td>1.753422</td>\n",
       "      <td>...</td>\n",
       "      <td>0.243094</td>\n",
       "      <td>0.800000</td>\n",
       "      <td>0.916031</td>\n",
       "      <td>1.158345</td>\n",
       "      <td>1.321078</td>\n",
       "      <td>0.720000</td>\n",
       "      <td>1.497297</td>\n",
       "      <td>0.606061</td>\n",
       "      <td>0.843750</td>\n",
       "      <td>0.752056</td>\n",
       "    </tr>\n",
       "    <tr>\n",
       "      <th>...</th>\n",
       "      <td>...</td>\n",
       "      <td>...</td>\n",
       "      <td>...</td>\n",
       "      <td>...</td>\n",
       "      <td>...</td>\n",
       "      <td>...</td>\n",
       "      <td>...</td>\n",
       "      <td>...</td>\n",
       "      <td>...</td>\n",
       "      <td>...</td>\n",
       "      <td>...</td>\n",
       "      <td>...</td>\n",
       "      <td>...</td>\n",
       "      <td>...</td>\n",
       "      <td>...</td>\n",
       "      <td>...</td>\n",
       "      <td>...</td>\n",
       "      <td>...</td>\n",
       "      <td>...</td>\n",
       "      <td>...</td>\n",
       "      <td>...</td>\n",
       "    </tr>\n",
       "    <tr>\n",
       "      <th>977</th>\n",
       "      <td>0.962563</td>\n",
       "      <td>1.015188</td>\n",
       "      <td>0.697124</td>\n",
       "      <td>0.235920</td>\n",
       "      <td>0.743752</td>\n",
       "      <td>0.019091</td>\n",
       "      <td>0.412903</td>\n",
       "      <td>0.863851</td>\n",
       "      <td>0.809524</td>\n",
       "      <td>0.448160</td>\n",
       "      <td>...</td>\n",
       "      <td>0.850829</td>\n",
       "      <td>1.142857</td>\n",
       "      <td>0.977099</td>\n",
       "      <td>0.311218</td>\n",
       "      <td>0.522059</td>\n",
       "      <td>0.720000</td>\n",
       "      <td>5.466216</td>\n",
       "      <td>1.333333</td>\n",
       "      <td>0.812500</td>\n",
       "      <td>1.031727</td>\n",
       "    </tr>\n",
       "    <tr>\n",
       "      <th>1276</th>\n",
       "      <td>1.551245</td>\n",
       "      <td>0.124144</td>\n",
       "      <td>14.714044</td>\n",
       "      <td>0.431937</td>\n",
       "      <td>2.424365</td>\n",
       "      <td>44.450554</td>\n",
       "      <td>0.481720</td>\n",
       "      <td>1.343446</td>\n",
       "      <td>21.750000</td>\n",
       "      <td>0.137712</td>\n",
       "      <td>...</td>\n",
       "      <td>0.215470</td>\n",
       "      <td>1.371429</td>\n",
       "      <td>0.702290</td>\n",
       "      <td>1.787278</td>\n",
       "      <td>2.004902</td>\n",
       "      <td>11.120000</td>\n",
       "      <td>0.044144</td>\n",
       "      <td>0.500000</td>\n",
       "      <td>2.968750</td>\n",
       "      <td>0.049354</td>\n",
       "    </tr>\n",
       "    <tr>\n",
       "      <th>1107</th>\n",
       "      <td>0.321911</td>\n",
       "      <td>1.190435</td>\n",
       "      <td>0.663283</td>\n",
       "      <td>1.162379</td>\n",
       "      <td>0.309990</td>\n",
       "      <td>0.062619</td>\n",
       "      <td>0.481720</td>\n",
       "      <td>0.991507</td>\n",
       "      <td>1.261905</td>\n",
       "      <td>0.565923</td>\n",
       "      <td>...</td>\n",
       "      <td>2.723757</td>\n",
       "      <td>1.000000</td>\n",
       "      <td>1.206107</td>\n",
       "      <td>8.660739</td>\n",
       "      <td>3.881127</td>\n",
       "      <td>1.040000</td>\n",
       "      <td>0.113063</td>\n",
       "      <td>16.204545</td>\n",
       "      <td>1.296875</td>\n",
       "      <td>8.601645</td>\n",
       "    </tr>\n",
       "    <tr>\n",
       "      <th>1392</th>\n",
       "      <td>6.725795</td>\n",
       "      <td>1.485032</td>\n",
       "      <td>2.102921</td>\n",
       "      <td>3.814975</td>\n",
       "      <td>11.074148</td>\n",
       "      <td>13.829560</td>\n",
       "      <td>1.160494</td>\n",
       "      <td>1.554671</td>\n",
       "      <td>1.496403</td>\n",
       "      <td>1.082960</td>\n",
       "      <td>...</td>\n",
       "      <td>0.211009</td>\n",
       "      <td>1.857143</td>\n",
       "      <td>2.756757</td>\n",
       "      <td>2.194269</td>\n",
       "      <td>2.213115</td>\n",
       "      <td>2.545455</td>\n",
       "      <td>2.327869</td>\n",
       "      <td>9.883234</td>\n",
       "      <td>3.375000</td>\n",
       "      <td>7.207921</td>\n",
       "    </tr>\n",
       "    <tr>\n",
       "      <th>1339</th>\n",
       "      <td>1.136913</td>\n",
       "      <td>0.862865</td>\n",
       "      <td>0.947547</td>\n",
       "      <td>0.009801</td>\n",
       "      <td>1.035781</td>\n",
       "      <td>0.504009</td>\n",
       "      <td>0.318280</td>\n",
       "      <td>0.382184</td>\n",
       "      <td>0.595238</td>\n",
       "      <td>0.005781</td>\n",
       "      <td>...</td>\n",
       "      <td>1.099448</td>\n",
       "      <td>0.771429</td>\n",
       "      <td>0.427481</td>\n",
       "      <td>0.220930</td>\n",
       "      <td>2.241422</td>\n",
       "      <td>1.240000</td>\n",
       "      <td>0.045946</td>\n",
       "      <td>50.810606</td>\n",
       "      <td>2.875000</td>\n",
       "      <td>0.131610</td>\n",
       "    </tr>\n",
       "  </tbody>\n",
       "</table>\n",
       "<p>162 rows × 31 columns</p>\n",
       "</div>"
      ],
      "text/plain": [
       "              IgG_FHA   IgG_PRN     IgG_PT   IgG1_DT   IgG1_FHA  IgG1_FIM2/3  \\\n",
       "specimen_id                                                                    \n",
       "1474         0.004868  2.099263   2.453408  1.053484   0.027255     0.011155   \n",
       "1037         0.997567  2.566912   1.021997  1.602926   1.436129     6.787705   \n",
       "1310         1.455296  0.262585   3.820643  0.053695   0.812670    14.786942   \n",
       "1269         0.102288  0.066482   0.426396  0.252301   0.637104     1.250859   \n",
       "1181         1.316665  0.138759   1.434856  1.339634   0.941455     1.151203   \n",
       "...               ...       ...        ...       ...        ...          ...   \n",
       "977          0.962563  1.015188   0.697124  0.235920   0.743752     0.019091   \n",
       "1276         1.551245  0.124144  14.714044  0.431937   2.424365    44.450554   \n",
       "1107         0.321911  1.190435   0.663283  1.162379   0.309990     0.062619   \n",
       "1392         6.725795  1.485032   2.102921  3.814975  11.074148    13.829560   \n",
       "1339         1.136913  0.862865   0.947547  0.009801   1.035781     0.504009   \n",
       "\n",
       "              IgG1_OVA  IgG1_PRN    IgG1_PT   IgG1_TT  ...   IgG3_PRN  \\\n",
       "specimen_id                                            ...              \n",
       "1474          2.024691  2.458658   4.964029  1.816143  ...   2.981651   \n",
       "1037          5.212903  2.303418   1.000000  1.305432  ...  84.535912   \n",
       "1310          0.206452  0.072920   2.714286  0.005327  ...   0.646409   \n",
       "1269          0.215054  1.343446   0.452381  0.137712  ...   0.281768   \n",
       "1181         28.649462  0.031902   1.035714  1.753422  ...   0.243094   \n",
       "...                ...       ...        ...       ...  ...        ...   \n",
       "977           0.412903  0.863851   0.809524  0.448160  ...   0.850829   \n",
       "1276          0.481720  1.343446  21.750000  0.137712  ...   0.215470   \n",
       "1107          0.481720  0.991507   1.261905  0.565923  ...   2.723757   \n",
       "1392          1.160494  1.554671   1.496403  1.082960  ...   0.211009   \n",
       "1339          0.318280  0.382184   0.595238  0.005781  ...   1.099448   \n",
       "\n",
       "              IgG3_PT   IgG3_TT   IgG4_DT  IgG4_FHA  IgG4_FIM2/3  IgG4_OVA  \\\n",
       "specimen_id                                                                  \n",
       "1474         1.500000  2.324324  0.202040  0.495902     0.472727  1.016393   \n",
       "1037         1.314286  1.038168  0.660739  0.754902     2.920000  4.797297   \n",
       "1310         0.742857  0.427481  0.093023  1.610294    38.560000  0.023874   \n",
       "1269         1.257143  0.732824  0.388167  0.275735     0.630000  0.050901   \n",
       "1181         0.800000  0.916031  1.158345  1.321078     0.720000  1.497297   \n",
       "...               ...       ...       ...       ...          ...       ...   \n",
       "977          1.142857  0.977099  0.311218  0.522059     0.720000  5.466216   \n",
       "1276         1.371429  0.702290  1.787278  2.004902    11.120000  0.044144   \n",
       "1107         1.000000  1.206107  8.660739  3.881127     1.040000  0.113063   \n",
       "1392         1.857143  2.756757  2.194269  2.213115     2.545455  2.327869   \n",
       "1339         0.771429  0.427481  0.220930  2.241422     1.240000  0.045946   \n",
       "\n",
       "              IgG4_PRN   IgG4_PT   IgG4_TT  \n",
       "specimen_id                                 \n",
       "1474          0.167665  0.562500  0.257426  \n",
       "1037          0.787879  1.125000  0.159812  \n",
       "1310          0.530303  1.250000  0.065805  \n",
       "1269          0.454545  0.437500  0.049354  \n",
       "1181          0.606061  0.843750  0.752056  \n",
       "...                ...       ...       ...  \n",
       "977           1.333333  0.812500  1.031727  \n",
       "1276          0.500000  2.968750  0.049354  \n",
       "1107         16.204545  1.296875  8.601645  \n",
       "1392          9.883234  3.375000  7.207921  \n",
       "1339         50.810606  2.875000  0.131610  \n",
       "\n",
       "[162 rows x 31 columns]"
      ]
     },
     "execution_count": 1,
     "metadata": {},
     "output_type": "execute_result"
    }
   ],
   "source": [
    "import pandas as pd\n",
    "# abtier = pd.read_csv(\"~/cmipb_challenge/batch_corrected_data/plasma_cytokine_concentrations_by_olink_batchCorrected_data.tsv\", sep=\"\\t\", index_col=0)\n",
    "abtier = pd.read_csv(\"~/cmipb_challenge/normalized_data/challenge_plasma_antibody_levels_wide.tsv\", sep=\"\\t\", index_col=0)\n",
    "\n",
    "abtier"
   ]
  },
  {
   "cell_type": "code",
   "execution_count": null,
   "id": "10efd0a9",
   "metadata": {},
   "outputs": [],
   "source": []
  },
  {
   "cell_type": "code",
   "execution_count": 2,
   "id": "d41e30be",
   "metadata": {},
   "outputs": [
    {
     "data": {
      "text/html": [
       "<div>\n",
       "<style scoped>\n",
       "    .dataframe tbody tr th:only-of-type {\n",
       "        vertical-align: middle;\n",
       "    }\n",
       "\n",
       "    .dataframe tbody tr th {\n",
       "        vertical-align: top;\n",
       "    }\n",
       "\n",
       "    .dataframe thead th {\n",
       "        text-align: right;\n",
       "    }\n",
       "</style>\n",
       "<table border=\"1\" class=\"dataframe\">\n",
       "  <thead>\n",
       "    <tr style=\"text-align: right;\">\n",
       "      <th></th>\n",
       "      <th>specimen_id</th>\n",
       "      <th>subject_id</th>\n",
       "      <th>actual_day_relative_to_boost</th>\n",
       "      <th>planned_day_relative_to_boost</th>\n",
       "      <th>specimen_type</th>\n",
       "      <th>visit</th>\n",
       "      <th>infancy_vac</th>\n",
       "      <th>biological_sex</th>\n",
       "      <th>ethnicity</th>\n",
       "      <th>race</th>\n",
       "      <th>year_of_birth</th>\n",
       "      <th>date_of_boost</th>\n",
       "      <th>dataset</th>\n",
       "      <th>timepoint</th>\n",
       "    </tr>\n",
       "  </thead>\n",
       "  <tbody>\n",
       "    <tr>\n",
       "      <th>0</th>\n",
       "      <td>940</td>\n",
       "      <td>170</td>\n",
       "      <td>-32</td>\n",
       "      <td>-30</td>\n",
       "      <td>Blood</td>\n",
       "      <td>1</td>\n",
       "      <td>wP</td>\n",
       "      <td>Male</td>\n",
       "      <td>Not Hispanic or Latino</td>\n",
       "      <td>White</td>\n",
       "      <td>1992-01-01</td>\n",
       "      <td>2023-10-02</td>\n",
       "      <td>2023_dataset</td>\n",
       "      <td>-30</td>\n",
       "    </tr>\n",
       "    <tr>\n",
       "      <th>1</th>\n",
       "      <td>942</td>\n",
       "      <td>170</td>\n",
       "      <td>-14</td>\n",
       "      <td>-14</td>\n",
       "      <td>Blood</td>\n",
       "      <td>2</td>\n",
       "      <td>wP</td>\n",
       "      <td>Male</td>\n",
       "      <td>Not Hispanic or Latino</td>\n",
       "      <td>White</td>\n",
       "      <td>1992-01-01</td>\n",
       "      <td>2023-10-02</td>\n",
       "      <td>2023_dataset</td>\n",
       "      <td>-14</td>\n",
       "    </tr>\n",
       "    <tr>\n",
       "      <th>2</th>\n",
       "      <td>943</td>\n",
       "      <td>170</td>\n",
       "      <td>0</td>\n",
       "      <td>0</td>\n",
       "      <td>Blood</td>\n",
       "      <td>3</td>\n",
       "      <td>wP</td>\n",
       "      <td>Male</td>\n",
       "      <td>Not Hispanic or Latino</td>\n",
       "      <td>White</td>\n",
       "      <td>1992-01-01</td>\n",
       "      <td>2023-10-02</td>\n",
       "      <td>2023_dataset</td>\n",
       "      <td>0</td>\n",
       "    </tr>\n",
       "    <tr>\n",
       "      <th>3</th>\n",
       "      <td>955</td>\n",
       "      <td>172</td>\n",
       "      <td>-33</td>\n",
       "      <td>-30</td>\n",
       "      <td>Blood</td>\n",
       "      <td>3</td>\n",
       "      <td>wP</td>\n",
       "      <td>Male</td>\n",
       "      <td>Not Hispanic or Latino</td>\n",
       "      <td>White</td>\n",
       "      <td>1986-01-01</td>\n",
       "      <td>2022-01-24</td>\n",
       "      <td>2023_dataset</td>\n",
       "      <td>-30</td>\n",
       "    </tr>\n",
       "    <tr>\n",
       "      <th>4</th>\n",
       "      <td>956</td>\n",
       "      <td>172</td>\n",
       "      <td>-13</td>\n",
       "      <td>-14</td>\n",
       "      <td>Blood</td>\n",
       "      <td>4</td>\n",
       "      <td>wP</td>\n",
       "      <td>Male</td>\n",
       "      <td>Not Hispanic or Latino</td>\n",
       "      <td>White</td>\n",
       "      <td>1986-01-01</td>\n",
       "      <td>2022-01-24</td>\n",
       "      <td>2023_dataset</td>\n",
       "      <td>-14</td>\n",
       "    </tr>\n",
       "  </tbody>\n",
       "</table>\n",
       "</div>"
      ],
      "text/plain": [
       "   specimen_id  subject_id  actual_day_relative_to_boost  \\\n",
       "0          940         170                           -32   \n",
       "1          942         170                           -14   \n",
       "2          943         170                             0   \n",
       "3          955         172                           -33   \n",
       "4          956         172                           -13   \n",
       "\n",
       "   planned_day_relative_to_boost specimen_type  visit infancy_vac  \\\n",
       "0                            -30         Blood      1          wP   \n",
       "1                            -14         Blood      2          wP   \n",
       "2                              0         Blood      3          wP   \n",
       "3                            -30         Blood      3          wP   \n",
       "4                            -14         Blood      4          wP   \n",
       "\n",
       "  biological_sex               ethnicity   race year_of_birth date_of_boost  \\\n",
       "0           Male  Not Hispanic or Latino  White    1992-01-01    2023-10-02   \n",
       "1           Male  Not Hispanic or Latino  White    1992-01-01    2023-10-02   \n",
       "2           Male  Not Hispanic or Latino  White    1992-01-01    2023-10-02   \n",
       "3           Male  Not Hispanic or Latino  White    1986-01-01    2022-01-24   \n",
       "4           Male  Not Hispanic or Latino  White    1986-01-01    2022-01-24   \n",
       "\n",
       "        dataset  timepoint  \n",
       "0  2023_dataset        -30  \n",
       "1  2023_dataset        -14  \n",
       "2  2023_dataset          0  \n",
       "3  2023_dataset        -30  \n",
       "4  2023_dataset        -14  "
      ]
     },
     "execution_count": 2,
     "metadata": {},
     "output_type": "execute_result"
    }
   ],
   "source": [
    "df = pd.read_csv(\"~/cmipb_challenge/batch_corrected_data/challenge_subjects.tsv\", sep=\"\\t\")\n",
    "df.head()"
   ]
  },
  {
   "cell_type": "code",
   "execution_count": 3,
   "id": "572fc084",
   "metadata": {},
   "outputs": [
    {
     "name": "stdout",
     "output_type": "stream",
     "text": [
      "Number of unique values in subject_id: 54\n"
     ]
    }
   ],
   "source": [
    "number_of_unique_values = df['subject_id'].nunique()\n",
    "print(\"Number of unique values in subject_id:\", number_of_unique_values)\n"
   ]
  },
  {
   "cell_type": "code",
   "execution_count": null,
   "id": "3759ab9b",
   "metadata": {},
   "outputs": [],
   "source": []
  },
  {
   "cell_type": "code",
   "execution_count": 4,
   "id": "62b301e3",
   "metadata": {},
   "outputs": [
    {
     "name": "stderr",
     "output_type": "stream",
     "text": [
      "/tmp/ipykernel_2747840/2795513085.py:7: SettingWithCopyWarning: \n",
      "A value is trying to be set on a copy of a slice from a DataFrame.\n",
      "Try using .loc[row_indexer,col_indexer] = value instead\n",
      "\n",
      "See the caveats in the documentation: https://pandas.pydata.org/pandas-docs/stable/user_guide/indexing.html#returning-a-view-versus-a-copy\n",
      "  df_filtered['year_of_birth'] = pd.to_datetime(df_filtered['year_of_birth']).dt.year\n",
      "/tmp/ipykernel_2747840/2795513085.py:8: SettingWithCopyWarning: \n",
      "A value is trying to be set on a copy of a slice from a DataFrame.\n",
      "Try using .loc[row_indexer,col_indexer] = value instead\n",
      "\n",
      "See the caveats in the documentation: https://pandas.pydata.org/pandas-docs/stable/user_guide/indexing.html#returning-a-view-versus-a-copy\n",
      "  df_filtered['date_of_boost'] = pd.to_datetime(df_filtered['date_of_boost']).dt.year\n",
      "/tmp/ipykernel_2747840/2795513085.py:11: SettingWithCopyWarning: \n",
      "A value is trying to be set on a copy of a slice from a DataFrame.\n",
      "Try using .loc[row_indexer,col_indexer] = value instead\n",
      "\n",
      "See the caveats in the documentation: https://pandas.pydata.org/pandas-docs/stable/user_guide/indexing.html#returning-a-view-versus-a-copy\n",
      "  df_filtered['age'] = df_filtered['date_of_boost'] - df_filtered['year_of_birth']\n"
     ]
    },
    {
     "data": {
      "text/html": [
       "<div>\n",
       "<style scoped>\n",
       "    .dataframe tbody tr th:only-of-type {\n",
       "        vertical-align: middle;\n",
       "    }\n",
       "\n",
       "    .dataframe tbody tr th {\n",
       "        vertical-align: top;\n",
       "    }\n",
       "\n",
       "    .dataframe thead th {\n",
       "        text-align: right;\n",
       "    }\n",
       "</style>\n",
       "<table border=\"1\" class=\"dataframe\">\n",
       "  <thead>\n",
       "    <tr style=\"text-align: right;\">\n",
       "      <th></th>\n",
       "      <th>specimen_id</th>\n",
       "      <th>subject_id</th>\n",
       "      <th>actual_day_relative_to_boost</th>\n",
       "      <th>planned_day_relative_to_boost</th>\n",
       "      <th>specimen_type</th>\n",
       "      <th>visit</th>\n",
       "      <th>infancy_vac</th>\n",
       "      <th>biological_sex</th>\n",
       "      <th>ethnicity</th>\n",
       "      <th>race</th>\n",
       "      <th>year_of_birth</th>\n",
       "      <th>date_of_boost</th>\n",
       "      <th>dataset</th>\n",
       "      <th>timepoint</th>\n",
       "      <th>age</th>\n",
       "    </tr>\n",
       "  </thead>\n",
       "  <tbody>\n",
       "    <tr>\n",
       "      <th>2</th>\n",
       "      <td>943</td>\n",
       "      <td>170</td>\n",
       "      <td>0</td>\n",
       "      <td>0</td>\n",
       "      <td>Blood</td>\n",
       "      <td>3</td>\n",
       "      <td>wP</td>\n",
       "      <td>Male</td>\n",
       "      <td>Not Hispanic or Latino</td>\n",
       "      <td>White</td>\n",
       "      <td>1992</td>\n",
       "      <td>2023</td>\n",
       "      <td>2023_dataset</td>\n",
       "      <td>0</td>\n",
       "      <td>31</td>\n",
       "    </tr>\n",
       "    <tr>\n",
       "      <th>5</th>\n",
       "      <td>957</td>\n",
       "      <td>172</td>\n",
       "      <td>0</td>\n",
       "      <td>0</td>\n",
       "      <td>Blood</td>\n",
       "      <td>5</td>\n",
       "      <td>wP</td>\n",
       "      <td>Male</td>\n",
       "      <td>Not Hispanic or Latino</td>\n",
       "      <td>White</td>\n",
       "      <td>1986</td>\n",
       "      <td>2022</td>\n",
       "      <td>2023_dataset</td>\n",
       "      <td>0</td>\n",
       "      <td>36</td>\n",
       "    </tr>\n",
       "    <tr>\n",
       "      <th>8</th>\n",
       "      <td>966</td>\n",
       "      <td>129</td>\n",
       "      <td>0</td>\n",
       "      <td>0</td>\n",
       "      <td>Blood</td>\n",
       "      <td>3</td>\n",
       "      <td>wP</td>\n",
       "      <td>Male</td>\n",
       "      <td>Not Hispanic or Latino</td>\n",
       "      <td>White</td>\n",
       "      <td>1991</td>\n",
       "      <td>2022</td>\n",
       "      <td>2023_dataset</td>\n",
       "      <td>0</td>\n",
       "      <td>31</td>\n",
       "    </tr>\n",
       "    <tr>\n",
       "      <th>11</th>\n",
       "      <td>977</td>\n",
       "      <td>139</td>\n",
       "      <td>0</td>\n",
       "      <td>0</td>\n",
       "      <td>Blood</td>\n",
       "      <td>3</td>\n",
       "      <td>wP</td>\n",
       "      <td>Female</td>\n",
       "      <td>Not Hispanic or Latino</td>\n",
       "      <td>Asian</td>\n",
       "      <td>1993</td>\n",
       "      <td>2022</td>\n",
       "      <td>2023_dataset</td>\n",
       "      <td>0</td>\n",
       "      <td>29</td>\n",
       "    </tr>\n",
       "    <tr>\n",
       "      <th>14</th>\n",
       "      <td>987</td>\n",
       "      <td>162</td>\n",
       "      <td>0</td>\n",
       "      <td>0</td>\n",
       "      <td>Blood</td>\n",
       "      <td>3</td>\n",
       "      <td>aP</td>\n",
       "      <td>Female</td>\n",
       "      <td>Not Hispanic or Latino</td>\n",
       "      <td>White</td>\n",
       "      <td>1999</td>\n",
       "      <td>2023</td>\n",
       "      <td>2023_dataset</td>\n",
       "      <td>0</td>\n",
       "      <td>24</td>\n",
       "    </tr>\n",
       "  </tbody>\n",
       "</table>\n",
       "</div>"
      ],
      "text/plain": [
       "    specimen_id  subject_id  actual_day_relative_to_boost  \\\n",
       "2           943         170                             0   \n",
       "5           957         172                             0   \n",
       "8           966         129                             0   \n",
       "11          977         139                             0   \n",
       "14          987         162                             0   \n",
       "\n",
       "    planned_day_relative_to_boost specimen_type  visit infancy_vac  \\\n",
       "2                               0         Blood      3          wP   \n",
       "5                               0         Blood      5          wP   \n",
       "8                               0         Blood      3          wP   \n",
       "11                              0         Blood      3          wP   \n",
       "14                              0         Blood      3          aP   \n",
       "\n",
       "   biological_sex               ethnicity   race  year_of_birth  \\\n",
       "2            Male  Not Hispanic or Latino  White           1992   \n",
       "5            Male  Not Hispanic or Latino  White           1986   \n",
       "8            Male  Not Hispanic or Latino  White           1991   \n",
       "11         Female  Not Hispanic or Latino  Asian           1993   \n",
       "14         Female  Not Hispanic or Latino  White           1999   \n",
       "\n",
       "    date_of_boost       dataset  timepoint  age  \n",
       "2            2023  2023_dataset          0   31  \n",
       "5            2022  2023_dataset          0   36  \n",
       "8            2022  2023_dataset          0   31  \n",
       "11           2022  2023_dataset          0   29  \n",
       "14           2023  2023_dataset          0   24  "
      ]
     },
     "execution_count": 4,
     "metadata": {},
     "output_type": "execute_result"
    }
   ],
   "source": [
    "# Filtering for age and also time points (0,14)\n",
    "\n",
    "# Filter rows where 'timepoint' is either 0 or 14\n",
    "df_filtered = df[df['timepoint'].isin([0])]\n",
    "\n",
    "# Convert 'year_of_birth' and 'date_of_boost' to datetime format\n",
    "df_filtered['year_of_birth'] = pd.to_datetime(df_filtered['year_of_birth']).dt.year\n",
    "df_filtered['date_of_boost'] = pd.to_datetime(df_filtered['date_of_boost']).dt.year\n",
    "\n",
    "# Calculate the 'age' column\n",
    "df_filtered['age'] = df_filtered['date_of_boost'] - df_filtered['year_of_birth']\n",
    "\n",
    "df_filtered.head()"
   ]
  },
  {
   "cell_type": "code",
   "execution_count": null,
   "id": "a7818be5",
   "metadata": {},
   "outputs": [],
   "source": []
  },
  {
   "cell_type": "code",
   "execution_count": 5,
   "id": "021b1237",
   "metadata": {},
   "outputs": [
    {
     "data": {
      "text/html": [
       "<div>\n",
       "<style scoped>\n",
       "    .dataframe tbody tr th:only-of-type {\n",
       "        vertical-align: middle;\n",
       "    }\n",
       "\n",
       "    .dataframe tbody tr th {\n",
       "        vertical-align: top;\n",
       "    }\n",
       "\n",
       "    .dataframe thead th {\n",
       "        text-align: right;\n",
       "    }\n",
       "</style>\n",
       "<table border=\"1\" class=\"dataframe\">\n",
       "  <thead>\n",
       "    <tr style=\"text-align: right;\">\n",
       "      <th></th>\n",
       "      <th>specimen_id</th>\n",
       "      <th>subject_id</th>\n",
       "      <th>actual_day_relative_to_boost</th>\n",
       "      <th>planned_day_relative_to_boost</th>\n",
       "      <th>specimen_type</th>\n",
       "      <th>visit</th>\n",
       "      <th>infancy_vac</th>\n",
       "      <th>biological_sex</th>\n",
       "      <th>ethnicity</th>\n",
       "      <th>race</th>\n",
       "      <th>...</th>\n",
       "      <th>IgG3_PRN</th>\n",
       "      <th>IgG3_PT</th>\n",
       "      <th>IgG3_TT</th>\n",
       "      <th>IgG4_DT</th>\n",
       "      <th>IgG4_FHA</th>\n",
       "      <th>IgG4_FIM2/3</th>\n",
       "      <th>IgG4_OVA</th>\n",
       "      <th>IgG4_PRN</th>\n",
       "      <th>IgG4_PT</th>\n",
       "      <th>IgG4_TT</th>\n",
       "    </tr>\n",
       "  </thead>\n",
       "  <tbody>\n",
       "    <tr>\n",
       "      <th>0</th>\n",
       "      <td>943</td>\n",
       "      <td>170</td>\n",
       "      <td>0</td>\n",
       "      <td>0</td>\n",
       "      <td>Blood</td>\n",
       "      <td>3</td>\n",
       "      <td>wP</td>\n",
       "      <td>Male</td>\n",
       "      <td>Not Hispanic or Latino</td>\n",
       "      <td>White</td>\n",
       "      <td>...</td>\n",
       "      <td>0.683486</td>\n",
       "      <td>0.696429</td>\n",
       "      <td>1.027027</td>\n",
       "      <td>3.856241</td>\n",
       "      <td>1.741803</td>\n",
       "      <td>6.181818</td>\n",
       "      <td>2.251366</td>\n",
       "      <td>2.880240</td>\n",
       "      <td>1.958333</td>\n",
       "      <td>4.079208</td>\n",
       "    </tr>\n",
       "    <tr>\n",
       "      <th>1</th>\n",
       "      <td>957</td>\n",
       "      <td>172</td>\n",
       "      <td>0</td>\n",
       "      <td>0</td>\n",
       "      <td>Blood</td>\n",
       "      <td>5</td>\n",
       "      <td>wP</td>\n",
       "      <td>Male</td>\n",
       "      <td>Not Hispanic or Latino</td>\n",
       "      <td>White</td>\n",
       "      <td>...</td>\n",
       "      <td>9.064220</td>\n",
       "      <td>0.714286</td>\n",
       "      <td>0.864865</td>\n",
       "      <td>0.444876</td>\n",
       "      <td>1.000000</td>\n",
       "      <td>1.309091</td>\n",
       "      <td>1.278689</td>\n",
       "      <td>1.000000</td>\n",
       "      <td>1.500000</td>\n",
       "      <td>1.029703</td>\n",
       "    </tr>\n",
       "    <tr>\n",
       "      <th>2</th>\n",
       "      <td>966</td>\n",
       "      <td>129</td>\n",
       "      <td>0</td>\n",
       "      <td>0</td>\n",
       "      <td>Blood</td>\n",
       "      <td>3</td>\n",
       "      <td>wP</td>\n",
       "      <td>Male</td>\n",
       "      <td>Not Hispanic or Latino</td>\n",
       "      <td>White</td>\n",
       "      <td>...</td>\n",
       "      <td>1.817680</td>\n",
       "      <td>1.171429</td>\n",
       "      <td>2.763359</td>\n",
       "      <td>3.034884</td>\n",
       "      <td>7.036765</td>\n",
       "      <td>4.160000</td>\n",
       "      <td>7.177252</td>\n",
       "      <td>13.818182</td>\n",
       "      <td>1.375000</td>\n",
       "      <td>20.740306</td>\n",
       "    </tr>\n",
       "    <tr>\n",
       "      <th>3</th>\n",
       "      <td>977</td>\n",
       "      <td>139</td>\n",
       "      <td>0</td>\n",
       "      <td>0</td>\n",
       "      <td>Blood</td>\n",
       "      <td>3</td>\n",
       "      <td>wP</td>\n",
       "      <td>Female</td>\n",
       "      <td>Not Hispanic or Latino</td>\n",
       "      <td>Asian</td>\n",
       "      <td>...</td>\n",
       "      <td>0.850829</td>\n",
       "      <td>1.142857</td>\n",
       "      <td>0.977099</td>\n",
       "      <td>0.311218</td>\n",
       "      <td>0.522059</td>\n",
       "      <td>0.720000</td>\n",
       "      <td>5.466216</td>\n",
       "      <td>1.333333</td>\n",
       "      <td>0.812500</td>\n",
       "      <td>1.031727</td>\n",
       "    </tr>\n",
       "    <tr>\n",
       "      <th>4</th>\n",
       "      <td>987</td>\n",
       "      <td>162</td>\n",
       "      <td>0</td>\n",
       "      <td>0</td>\n",
       "      <td>Blood</td>\n",
       "      <td>3</td>\n",
       "      <td>aP</td>\n",
       "      <td>Female</td>\n",
       "      <td>Not Hispanic or Latino</td>\n",
       "      <td>White</td>\n",
       "      <td>...</td>\n",
       "      <td>0.683486</td>\n",
       "      <td>0.464286</td>\n",
       "      <td>0.648649</td>\n",
       "      <td>3.856241</td>\n",
       "      <td>3.659836</td>\n",
       "      <td>6.181818</td>\n",
       "      <td>2.316940</td>\n",
       "      <td>15.898204</td>\n",
       "      <td>3.020833</td>\n",
       "      <td>4.079208</td>\n",
       "    </tr>\n",
       "  </tbody>\n",
       "</table>\n",
       "<p>5 rows × 46 columns</p>\n",
       "</div>"
      ],
      "text/plain": [
       "   specimen_id  subject_id  actual_day_relative_to_boost  \\\n",
       "0          943         170                             0   \n",
       "1          957         172                             0   \n",
       "2          966         129                             0   \n",
       "3          977         139                             0   \n",
       "4          987         162                             0   \n",
       "\n",
       "   planned_day_relative_to_boost specimen_type  visit infancy_vac  \\\n",
       "0                              0         Blood      3          wP   \n",
       "1                              0         Blood      5          wP   \n",
       "2                              0         Blood      3          wP   \n",
       "3                              0         Blood      3          wP   \n",
       "4                              0         Blood      3          aP   \n",
       "\n",
       "  biological_sex               ethnicity   race  ...  IgG3_PRN   IgG3_PT  \\\n",
       "0           Male  Not Hispanic or Latino  White  ...  0.683486  0.696429   \n",
       "1           Male  Not Hispanic or Latino  White  ...  9.064220  0.714286   \n",
       "2           Male  Not Hispanic or Latino  White  ...  1.817680  1.171429   \n",
       "3         Female  Not Hispanic or Latino  Asian  ...  0.850829  1.142857   \n",
       "4         Female  Not Hispanic or Latino  White  ...  0.683486  0.464286   \n",
       "\n",
       "    IgG3_TT   IgG4_DT  IgG4_FHA  IgG4_FIM2/3  IgG4_OVA   IgG4_PRN   IgG4_PT  \\\n",
       "0  1.027027  3.856241  1.741803     6.181818  2.251366   2.880240  1.958333   \n",
       "1  0.864865  0.444876  1.000000     1.309091  1.278689   1.000000  1.500000   \n",
       "2  2.763359  3.034884  7.036765     4.160000  7.177252  13.818182  1.375000   \n",
       "3  0.977099  0.311218  0.522059     0.720000  5.466216   1.333333  0.812500   \n",
       "4  0.648649  3.856241  3.659836     6.181818  2.316940  15.898204  3.020833   \n",
       "\n",
       "     IgG4_TT  \n",
       "0   4.079208  \n",
       "1   1.029703  \n",
       "2  20.740306  \n",
       "3   1.031727  \n",
       "4   4.079208  \n",
       "\n",
       "[5 rows x 46 columns]"
      ]
     },
     "execution_count": 5,
     "metadata": {},
     "output_type": "execute_result"
    }
   ],
   "source": [
    "# Transpose the second dataframe\n",
    "# df_second_transposed = abtier.transpose()\n",
    "df_second_transposed = abtier\n",
    "\n",
    "# Merge the filtered dataframe with the transposed second dataframe\n",
    "# This merge operation aligns each row in df_filtered with its corresponding columns in df_second_transposed based on 'specimen_id'\n",
    "df_final = df_filtered.merge(df_second_transposed, how='left', on='specimen_id')\n",
    "\n",
    "df_final.head()"
   ]
  },
  {
   "cell_type": "code",
   "execution_count": 6,
   "id": "47603250",
   "metadata": {},
   "outputs": [
    {
     "name": "stdout",
     "output_type": "stream",
     "text": [
      "Number of unique values in subject_id: 54\n"
     ]
    }
   ],
   "source": [
    "number_of_unique_values = df_final['subject_id'].nunique()\n",
    "print(\"Number of unique values in subject_id:\", number_of_unique_values)\n"
   ]
  },
  {
   "cell_type": "code",
   "execution_count": null,
   "id": "83637290",
   "metadata": {},
   "outputs": [],
   "source": [
    "# Ensure that both DataFrames treat 'specimen_id' as a column for clarity\n",
    "df_filtered['specimen_id'] = df_filtered['specimen_id'].astype(int)\n",
    "abtier['specimen_id'] = abtier['specimen_id'].astype(int)\n",
    "\n",
    "# Perform an inner merge to keep only matching specimen_ids\n",
    "df_final = df_filtered.merge(abtier, on='specimen_id', how='inner')\n",
    "\n",
    "# Display the result\n",
    "df_final.head()"
   ]
  },
  {
   "cell_type": "code",
   "execution_count": null,
   "id": "c0cf6736",
   "metadata": {},
   "outputs": [],
   "source": []
  },
  {
   "cell_type": "code",
   "execution_count": 17,
   "id": "478279a5",
   "metadata": {},
   "outputs": [],
   "source": [
    "# removing subjects with only time point 30 and not zero\n",
    "\n",
    "# Subjects at timepoint 0\n",
    "subjects_at_0 = set(df_final[df_final['timepoint'] == 0]['subject_id'])\n",
    "\n",
    "# Subjects at timepoint 30\n",
    "subjects_at_30 = set(df_final[df_final['timepoint'] == 30]['subject_id'])\n",
    "\n",
    "# Subjects only at timepoint 30\n",
    "subjects_only_at_30 = subjects_at_30.difference(subjects_at_0)\n",
    "\n",
    "# Filter out subjects who are only at timepoint 30\n",
    "df_final_filtered = df_final[~df_final['subject_id'].isin(subjects_only_at_30)]"
   ]
  },
  {
   "cell_type": "code",
   "execution_count": null,
   "id": "8cb55151",
   "metadata": {},
   "outputs": [],
   "source": [
    "# Recheck the number of unique subjects at each timepoint\n",
    "subjects_per_timepoint_after = df_final_filtered.groupby('timepoint')['subject_id'].nunique()\n",
    "print(subjects_per_timepoint_after)"
   ]
  },
  {
   "cell_type": "code",
   "execution_count": 52,
   "id": "a969aac5",
   "metadata": {},
   "outputs": [],
   "source": [
    "df = df_final_filtered"
   ]
  },
  {
   "cell_type": "markdown",
   "id": "1d42d729",
   "metadata": {},
   "source": [
    "Converting to final dataframe containing all antibodies and FCs"
   ]
  },
  {
   "cell_type": "code",
   "execution_count": 11,
   "id": "1291efac",
   "metadata": {},
   "outputs": [
    {
     "data": {
      "text/html": [
       "<div>\n",
       "<style scoped>\n",
       "    .dataframe tbody tr th:only-of-type {\n",
       "        vertical-align: middle;\n",
       "    }\n",
       "\n",
       "    .dataframe tbody tr th {\n",
       "        vertical-align: top;\n",
       "    }\n",
       "\n",
       "    .dataframe thead th {\n",
       "        text-align: right;\n",
       "    }\n",
       "</style>\n",
       "<table border=\"1\" class=\"dataframe\">\n",
       "  <thead>\n",
       "    <tr style=\"text-align: right;\">\n",
       "      <th></th>\n",
       "      <th>day_0_specimen_id</th>\n",
       "      <th>subject_id</th>\n",
       "      <th>actual_day_relative_to_boost</th>\n",
       "      <th>planned_day_relative_to_boost</th>\n",
       "      <th>specimen_type</th>\n",
       "      <th>visit</th>\n",
       "      <th>infancy_vac</th>\n",
       "      <th>biological_sex</th>\n",
       "      <th>ethnicity</th>\n",
       "      <th>race</th>\n",
       "      <th>...</th>\n",
       "      <th>day_0_IgG3_PRN</th>\n",
       "      <th>day_0_IgG3_PT</th>\n",
       "      <th>day_0_IgG3_TT</th>\n",
       "      <th>day_0_IgG4_DT</th>\n",
       "      <th>day_0_IgG4_FHA</th>\n",
       "      <th>day_0_IgG4_FIM2/3</th>\n",
       "      <th>day_0_IgG4_OVA</th>\n",
       "      <th>day_0_IgG4_PRN</th>\n",
       "      <th>day_0_IgG4_PT</th>\n",
       "      <th>day_0_IgG4_TT</th>\n",
       "    </tr>\n",
       "  </thead>\n",
       "  <tbody>\n",
       "    <tr>\n",
       "      <th>0</th>\n",
       "      <td>943</td>\n",
       "      <td>170</td>\n",
       "      <td>0</td>\n",
       "      <td>0</td>\n",
       "      <td>Blood</td>\n",
       "      <td>3</td>\n",
       "      <td>wP</td>\n",
       "      <td>Male</td>\n",
       "      <td>Not Hispanic or Latino</td>\n",
       "      <td>White</td>\n",
       "      <td>...</td>\n",
       "      <td>0.683486</td>\n",
       "      <td>0.696429</td>\n",
       "      <td>1.027027</td>\n",
       "      <td>3.856241</td>\n",
       "      <td>1.741803</td>\n",
       "      <td>6.181818</td>\n",
       "      <td>2.251366</td>\n",
       "      <td>2.880240</td>\n",
       "      <td>1.958333</td>\n",
       "      <td>4.079208</td>\n",
       "    </tr>\n",
       "    <tr>\n",
       "      <th>1</th>\n",
       "      <td>957</td>\n",
       "      <td>172</td>\n",
       "      <td>0</td>\n",
       "      <td>0</td>\n",
       "      <td>Blood</td>\n",
       "      <td>5</td>\n",
       "      <td>wP</td>\n",
       "      <td>Male</td>\n",
       "      <td>Not Hispanic or Latino</td>\n",
       "      <td>White</td>\n",
       "      <td>...</td>\n",
       "      <td>9.064220</td>\n",
       "      <td>0.714286</td>\n",
       "      <td>0.864865</td>\n",
       "      <td>0.444876</td>\n",
       "      <td>1.000000</td>\n",
       "      <td>1.309091</td>\n",
       "      <td>1.278689</td>\n",
       "      <td>1.000000</td>\n",
       "      <td>1.500000</td>\n",
       "      <td>1.029703</td>\n",
       "    </tr>\n",
       "    <tr>\n",
       "      <th>2</th>\n",
       "      <td>966</td>\n",
       "      <td>129</td>\n",
       "      <td>0</td>\n",
       "      <td>0</td>\n",
       "      <td>Blood</td>\n",
       "      <td>3</td>\n",
       "      <td>wP</td>\n",
       "      <td>Male</td>\n",
       "      <td>Not Hispanic or Latino</td>\n",
       "      <td>White</td>\n",
       "      <td>...</td>\n",
       "      <td>1.817680</td>\n",
       "      <td>1.171429</td>\n",
       "      <td>2.763359</td>\n",
       "      <td>3.034884</td>\n",
       "      <td>7.036765</td>\n",
       "      <td>4.160000</td>\n",
       "      <td>7.177252</td>\n",
       "      <td>13.818182</td>\n",
       "      <td>1.375000</td>\n",
       "      <td>20.740306</td>\n",
       "    </tr>\n",
       "    <tr>\n",
       "      <th>3</th>\n",
       "      <td>977</td>\n",
       "      <td>139</td>\n",
       "      <td>0</td>\n",
       "      <td>0</td>\n",
       "      <td>Blood</td>\n",
       "      <td>3</td>\n",
       "      <td>wP</td>\n",
       "      <td>Female</td>\n",
       "      <td>Not Hispanic or Latino</td>\n",
       "      <td>Asian</td>\n",
       "      <td>...</td>\n",
       "      <td>0.850829</td>\n",
       "      <td>1.142857</td>\n",
       "      <td>0.977099</td>\n",
       "      <td>0.311218</td>\n",
       "      <td>0.522059</td>\n",
       "      <td>0.720000</td>\n",
       "      <td>5.466216</td>\n",
       "      <td>1.333333</td>\n",
       "      <td>0.812500</td>\n",
       "      <td>1.031727</td>\n",
       "    </tr>\n",
       "    <tr>\n",
       "      <th>4</th>\n",
       "      <td>987</td>\n",
       "      <td>162</td>\n",
       "      <td>0</td>\n",
       "      <td>0</td>\n",
       "      <td>Blood</td>\n",
       "      <td>3</td>\n",
       "      <td>aP</td>\n",
       "      <td>Female</td>\n",
       "      <td>Not Hispanic or Latino</td>\n",
       "      <td>White</td>\n",
       "      <td>...</td>\n",
       "      <td>0.683486</td>\n",
       "      <td>0.464286</td>\n",
       "      <td>0.648649</td>\n",
       "      <td>3.856241</td>\n",
       "      <td>3.659836</td>\n",
       "      <td>6.181818</td>\n",
       "      <td>2.316940</td>\n",
       "      <td>15.898204</td>\n",
       "      <td>3.020833</td>\n",
       "      <td>4.079208</td>\n",
       "    </tr>\n",
       "  </tbody>\n",
       "</table>\n",
       "<p>5 rows × 46 columns</p>\n",
       "</div>"
      ],
      "text/plain": [
       "   day_0_specimen_id  subject_id  actual_day_relative_to_boost  \\\n",
       "0                943         170                             0   \n",
       "1                957         172                             0   \n",
       "2                966         129                             0   \n",
       "3                977         139                             0   \n",
       "4                987         162                             0   \n",
       "\n",
       "   planned_day_relative_to_boost specimen_type  visit infancy_vac  \\\n",
       "0                              0         Blood      3          wP   \n",
       "1                              0         Blood      5          wP   \n",
       "2                              0         Blood      3          wP   \n",
       "3                              0         Blood      3          wP   \n",
       "4                              0         Blood      3          aP   \n",
       "\n",
       "  biological_sex               ethnicity   race  ...  day_0_IgG3_PRN  \\\n",
       "0           Male  Not Hispanic or Latino  White  ...        0.683486   \n",
       "1           Male  Not Hispanic or Latino  White  ...        9.064220   \n",
       "2           Male  Not Hispanic or Latino  White  ...        1.817680   \n",
       "3         Female  Not Hispanic or Latino  Asian  ...        0.850829   \n",
       "4         Female  Not Hispanic or Latino  White  ...        0.683486   \n",
       "\n",
       "   day_0_IgG3_PT day_0_IgG3_TT  day_0_IgG4_DT  day_0_IgG4_FHA  \\\n",
       "0       0.696429      1.027027       3.856241        1.741803   \n",
       "1       0.714286      0.864865       0.444876        1.000000   \n",
       "2       1.171429      2.763359       3.034884        7.036765   \n",
       "3       1.142857      0.977099       0.311218        0.522059   \n",
       "4       0.464286      0.648649       3.856241        3.659836   \n",
       "\n",
       "   day_0_IgG4_FIM2/3  day_0_IgG4_OVA  day_0_IgG4_PRN  day_0_IgG4_PT  \\\n",
       "0           6.181818        2.251366        2.880240       1.958333   \n",
       "1           1.309091        1.278689        1.000000       1.500000   \n",
       "2           4.160000        7.177252       13.818182       1.375000   \n",
       "3           0.720000        5.466216        1.333333       0.812500   \n",
       "4           6.181818        2.316940       15.898204       3.020833   \n",
       "\n",
       "   day_0_IgG4_TT  \n",
       "0       4.079208  \n",
       "1       1.029703  \n",
       "2      20.740306  \n",
       "3       1.031727  \n",
       "4       4.079208  \n",
       "\n",
       "[5 rows x 46 columns]"
      ]
     },
     "execution_count": 11,
     "metadata": {},
     "output_type": "execute_result"
    }
   ],
   "source": [
    "import pandas as pd\n",
    "\n",
    "# Filter data for day 0 and day 14\n",
    "df_day_0 = df[df['timepoint'] == 0]\n",
    "# df_day_14 = df[df['timepoint'] == 30]\n",
    "\n",
    "day_0_antibody_columns = ['IgG_FHA', 'IgG_PRN',\n",
    "       'IgG_PT', 'IgG1_DT', 'IgG1_FHA', 'IgG1_FIM2/3', 'IgG1_OVA', 'IgG1_PRN',\n",
    "       'IgG1_PT', 'IgG1_TT', 'IgG2_DT', 'IgG2_FHA', 'IgG2_FIM2/3', 'IgG2_OVA',\n",
    "       'IgG2_PRN', 'IgG2_PT', 'IgG2_TT', 'IgG3_DT', 'IgG3_FHA', 'IgG3_FIM2/3',\n",
    "       'IgG3_OVA', 'IgG3_PRN', 'IgG3_PT', 'IgG3_TT', 'IgG4_DT', 'IgG4_FHA',\n",
    "       'IgG4_FIM2/3', 'IgG4_OVA', 'IgG4_PRN', 'IgG4_PT', 'IgG4_TT']\n",
    "df_day_0.rename(columns={col: f'day_0_{col}' for col in day_0_antibody_columns}, inplace=True)\n",
    "\n",
    "# Add a prefix for specimen ID of day 0\n",
    "df_day_0.rename(columns={'specimen_id': 'day_0_specimen_id'}, inplace=True)\n",
    "\n",
    "# Display the resulting dataframe\n",
    "df_day_0.head()\n"
   ]
  },
  {
   "cell_type": "code",
   "execution_count": 13,
   "id": "af83ea66",
   "metadata": {},
   "outputs": [
    {
     "data": {
      "text/plain": [
       "Index(['day_0_specimen_id', 'subject_id', 'specimen_type', 'infancy_vac',\n",
       "       'biological_sex', 'ethnicity', 'race', 'dataset', 'age',\n",
       "       'day_0_IgG_FHA', 'day_0_IgG_PRN', 'day_0_IgG_PT', 'day_0_IgG1_DT',\n",
       "       'day_0_IgG1_FHA', 'day_0_IgG1_FIM2/3', 'day_0_IgG1_OVA',\n",
       "       'day_0_IgG1_PRN', 'day_0_IgG1_PT', 'day_0_IgG1_TT', 'day_0_IgG2_DT',\n",
       "       'day_0_IgG2_FHA', 'day_0_IgG2_FIM2/3', 'day_0_IgG2_OVA',\n",
       "       'day_0_IgG2_PRN', 'day_0_IgG2_PT', 'day_0_IgG2_TT', 'day_0_IgG3_DT',\n",
       "       'day_0_IgG3_FHA', 'day_0_IgG3_FIM2/3', 'day_0_IgG3_OVA',\n",
       "       'day_0_IgG3_PRN', 'day_0_IgG3_PT', 'day_0_IgG3_TT', 'day_0_IgG4_DT',\n",
       "       'day_0_IgG4_FHA', 'day_0_IgG4_FIM2/3', 'day_0_IgG4_OVA',\n",
       "       'day_0_IgG4_PRN', 'day_0_IgG4_PT', 'day_0_IgG4_TT'],\n",
       "      dtype='object')"
      ]
     },
     "execution_count": 13,
     "metadata": {},
     "output_type": "execute_result"
    }
   ],
   "source": [
    "# Assuming df_final is your current dataframe and you want to drop specific columns\n",
    "columns_to_drop = ['actual_day_relative_to_boost', 'planned_day_relative_to_boost', 'visit', 'year_of_birth', 'date_of_boost', 'timepoint']  # Replace with actual column names you want to drop\n",
    "\n",
    "# Drop the specified columns from the dataframe\n",
    "df_final = df_day_0.drop(columns=columns_to_drop, axis=1)\n",
    "df_final.columns"
   ]
  },
  {
   "cell_type": "code",
   "execution_count": null,
   "id": "587e840b",
   "metadata": {},
   "outputs": [],
   "source": []
  },
  {
   "cell_type": "code",
   "execution_count": 14,
   "id": "a5a69268",
   "metadata": {},
   "outputs": [
    {
     "name": "stdout",
     "output_type": "stream",
     "text": [
      "day_0_specimen_id    0\n",
      "subject_id           0\n",
      "specimen_type        0\n",
      "infancy_vac          0\n",
      "biological_sex       0\n",
      "ethnicity            0\n",
      "race                 0\n",
      "dataset              0\n",
      "age                  0\n",
      "day_0_IgG_FHA        0\n",
      "day_0_IgG_PRN        0\n",
      "day_0_IgG_PT         0\n",
      "day_0_IgG1_DT        0\n",
      "day_0_IgG1_FHA       0\n",
      "day_0_IgG1_FIM2/3    0\n",
      "day_0_IgG1_OVA       0\n",
      "day_0_IgG1_PRN       0\n",
      "day_0_IgG1_PT        0\n",
      "day_0_IgG1_TT        0\n",
      "day_0_IgG2_DT        0\n",
      "day_0_IgG2_FHA       0\n",
      "day_0_IgG2_FIM2/3    0\n",
      "day_0_IgG2_OVA       0\n",
      "day_0_IgG2_PRN       0\n",
      "day_0_IgG2_PT        0\n",
      "day_0_IgG2_TT        0\n",
      "day_0_IgG3_DT        0\n",
      "day_0_IgG3_FHA       0\n",
      "day_0_IgG3_FIM2/3    0\n",
      "day_0_IgG3_OVA       0\n",
      "day_0_IgG3_PRN       0\n",
      "day_0_IgG3_PT        0\n",
      "day_0_IgG3_TT        0\n",
      "day_0_IgG4_DT        0\n",
      "day_0_IgG4_FHA       0\n",
      "day_0_IgG4_FIM2/3    0\n",
      "day_0_IgG4_OVA       0\n",
      "day_0_IgG4_PRN       0\n",
      "day_0_IgG4_PT        0\n",
      "day_0_IgG4_TT        0\n",
      "dtype: int64\n",
      "Columns with NaNs and their counts:\n",
      "Series([], dtype: int64)\n"
     ]
    }
   ],
   "source": [
    "# Assuming df_final is your current dataframe\n",
    "\n",
    "# Count the number of NaNs in each column\n",
    "nan_counts = df_final.isna().sum()\n",
    "\n",
    "# Print the counts of NaNs for each column\n",
    "print(nan_counts)\n",
    "\n",
    "# Optionally, you can filter to show only columns that have NaNs\n",
    "columns_with_nans = nan_counts[nan_counts > 0]\n",
    "print(\"Columns with NaNs and their counts:\")\n",
    "print(columns_with_nans)\n"
   ]
  },
  {
   "cell_type": "code",
   "execution_count": null,
   "id": "b4807cc6",
   "metadata": {},
   "outputs": [],
   "source": [
    "# Remove rows that contain any NaN values\n",
    "df_final_clean = df_final.dropna()\n"
   ]
  },
  {
   "cell_type": "code",
   "execution_count": 44,
   "id": "2158b3cc",
   "metadata": {},
   "outputs": [],
   "source": [
    "df_final.to_csv(\"/home/vmottaqi/cmipb_challenge/vincent_files/challenge_abtier_processed_nov17.csv\")"
   ]
  },
  {
   "cell_type": "code",
   "execution_count": null,
   "id": "99452972",
   "metadata": {},
   "outputs": [],
   "source": []
  },
  {
   "cell_type": "code",
   "execution_count": 85,
   "id": "0b819c20",
   "metadata": {},
   "outputs": [
    {
     "data": {
      "application/vnd.plotly.v1+json": {
       "config": {
        "plotlyServerURL": "https://plot.ly"
       },
       "data": [
        {
         "customdata": [
          [
           4
          ],
          [
           6
          ],
          [
           11
          ],
          [
           15
          ],
          [
           17
          ],
          [
           20
          ],
          [
           21
          ],
          [
           26
          ],
          [
           29
          ],
          [
           31
          ],
          [
           33
          ],
          [
           36
          ],
          [
           44
          ],
          [
           45
          ],
          [
           46
          ],
          [
           47
          ],
          [
           48
          ],
          [
           49
          ],
          [
           52
          ],
          [
           55
          ],
          [
           63
          ],
          [
           64
          ],
          [
           65
          ],
          [
           66
          ],
          [
           67
          ],
          [
           68
          ],
          [
           69
          ],
          [
           70
          ],
          [
           71
          ],
          [
           72
          ],
          [
           73
          ],
          [
           74
          ],
          [
           76
          ],
          [
           77
          ],
          [
           78
          ],
          [
           79
          ],
          [
           80
          ],
          [
           81
          ],
          [
           82
          ],
          [
           83
          ],
          [
           84
          ],
          [
           85
          ],
          [
           86
          ],
          [
           87
          ],
          [
           88
          ],
          [
           89
          ],
          [
           90
          ],
          [
           91
          ],
          [
           92
          ],
          [
           93
          ],
          [
           94
          ],
          [
           95
          ],
          [
           96
          ],
          [
           97
          ],
          [
           98
          ],
          [
           99
          ],
          [
           100
          ],
          [
           101
          ],
          [
           102
          ],
          [
           103
          ],
          [
           104
          ],
          [
           105
          ],
          [
           106
          ],
          [
           107
          ],
          [
           108
          ],
          [
           109
          ],
          [
           110
          ],
          [
           111
          ],
          [
           112
          ],
          [
           114
          ],
          [
           115
          ],
          [
           116
          ],
          [
           117
          ],
          [
           118
          ]
         ],
         "hovertemplate": "PC1=%{x}<br>PC2=%{y}<br>subject_id=%{customdata[0]}<extra></extra>",
         "legendgroup": "",
         "marker": {
          "color": "#636efa",
          "symbol": "circle"
         },
         "mode": "markers+text",
         "name": "",
         "orientation": "v",
         "showlegend": false,
         "text": [
          4,
          6,
          11,
          15,
          17,
          20,
          21,
          26,
          29,
          31,
          33,
          36,
          44,
          45,
          46,
          47,
          48,
          49,
          52,
          55,
          63,
          64,
          65,
          66,
          67,
          68,
          69,
          70,
          71,
          72,
          73,
          74,
          76,
          77,
          78,
          79,
          80,
          81,
          82,
          83,
          84,
          85,
          86,
          87,
          88,
          89,
          90,
          91,
          92,
          93,
          94,
          95,
          96,
          97,
          98,
          99,
          100,
          101,
          102,
          103,
          104,
          105,
          106,
          107,
          108,
          109,
          110,
          111,
          112,
          114,
          115,
          116,
          117,
          118
         ],
         "textposition": "top center",
         "type": "scatter",
         "x": [
          -4.114418094525256,
          2.695618460495623,
          -3.331926674553271,
          -0.3599835844499135,
          -1.6404129931012503,
          1.5200356159045765,
          1.620909990967537,
          -4.304055549048389,
          -1.299706196031814,
          -4.229569488783775,
          -1.7195195019080352,
          -2.5980764990315803,
          1.729659246169034,
          -0.5981627861137264,
          3.324831054759853,
          -2.837963775062688,
          0.2066395802947809,
          -1.1785557934236524,
          4.779516148163685,
          -0.6002165923633662,
          -4.45546638723811,
          -2.214991640199635,
          -2.041854117444169,
          -5.285591064317087,
          0.8324735450246566,
          -3.975610451164618,
          -5.200615926630759,
          2.1706533119492444,
          -3.472804827889093,
          0.2713579061577797,
          -4.029212371253546,
          3.6889076859746797,
          -2.934020926802562,
          3.6808603884012365,
          0.5503776350741126,
          4.239766637543707,
          5.099577215874284,
          5.030632307786453,
          -0.16325631907614485,
          1.6891944745653817,
          -1.3065974405920897,
          -2.902933950624131,
          -0.873706262013037,
          -1.3583304094196618,
          -0.6336195466988569,
          -3.632628631557334,
          -1.385538750543787,
          2.500959808553732,
          2.7028235231680005,
          -1.7741693081588874,
          0.4246295465825856,
          -1.1162549366501011,
          4.67826627055873,
          4.014603111247896,
          -1.607307890483677,
          3.194857751694039,
          0.006626818885990112,
          -1.4152284762673932,
          3.323486447397427,
          1.7052572526540504,
          2.0467035551266686,
          2.2479006174258225,
          -1.9490431550156357,
          -0.5970989095535085,
          0.05881507363299407,
          0.7014996608973695,
          3.77218610074113,
          7.068031562047763,
          0.3571183476893638,
          1.9337988820137166,
          -0.42583915567803526,
          2.590046991952236,
          -1.8549134983287627,
          -1.0394206453788124
         ],
         "xaxis": "x",
         "y": [
          -10.366980871931908,
          1.1877880667893073,
          2.2689253273862917,
          2.4569480764522305,
          2.1031600578005802,
          -1.6670670496701423,
          -4.518916094282034,
          -0.44218619957540345,
          -4.1913210678164745,
          3.3008456000315833,
          0.6034616268034326,
          -0.17406881948850564,
          -1.0428582497660157,
          0.14831244893566942,
          1.692064329655513,
          1.213348540938945,
          1.4691459658400756,
          4.537651496778224,
          -1.0517037735725427,
          0.6979705321010812,
          -1.4441756503415368,
          3.346886413656374,
          -1.0633740705273007,
          1.1239974645645323,
          -3.398304643292482,
          -2.911937332926939,
          -0.9392192018834588,
          -2.545537739197493,
          2.3599533712489955,
          -2.090561281357265,
          -1.5100380487005443,
          -2.8267720006321633,
          -1.0980859277460586,
          -0.2713463488946615,
          -1.8021640502772034,
          -3.568092070906965,
          3.0293916465878357,
          1.5383403867492147,
          3.3719272470659276,
          -0.4409183737603382,
          -1.423230260401166,
          0.6383534921003515,
          0.6402089310148867,
          0.4532415853053023,
          -0.7420784036478769,
          2.5058955036434347,
          1.5732639372719184,
          -1.156851761490763,
          -0.41516111826872837,
          0.866688443477841,
          -1.164573086002989,
          2.6741199403542395,
          1.8444566498476513,
          0.21587345253174442,
          0.188577664092915,
          3.9955886887663317,
          -0.03290328731814796,
          -1.1123151795625372,
          -2.1168220635761568,
          -0.9229721251174505,
          6.68112773885174,
          0.5123095885837216,
          -0.6812063382856555,
          0.3965317651298377,
          -0.4207745836688427,
          1.5844720470946412,
          -1.5603799889592418,
          -0.8853014565538643,
          -1.4015041399427244,
          -0.4520013980220881,
          2.2697418512249916,
          -0.3295012502413171,
          -0.23450178768865004,
          0.9271372166182775
         ],
         "yaxis": "y"
        }
       ],
       "layout": {
        "legend": {
         "title": {
          "text": "Subject ID"
         },
         "tracegroupgap": 0
        },
        "margin": {
         "t": 60
        },
        "template": {
         "data": {
          "bar": [
           {
            "error_x": {
             "color": "#2a3f5f"
            },
            "error_y": {
             "color": "#2a3f5f"
            },
            "marker": {
             "line": {
              "color": "#E5ECF6",
              "width": 0.5
             },
             "pattern": {
              "fillmode": "overlay",
              "size": 10,
              "solidity": 0.2
             }
            },
            "type": "bar"
           }
          ],
          "barpolar": [
           {
            "marker": {
             "line": {
              "color": "#E5ECF6",
              "width": 0.5
             },
             "pattern": {
              "fillmode": "overlay",
              "size": 10,
              "solidity": 0.2
             }
            },
            "type": "barpolar"
           }
          ],
          "carpet": [
           {
            "aaxis": {
             "endlinecolor": "#2a3f5f",
             "gridcolor": "white",
             "linecolor": "white",
             "minorgridcolor": "white",
             "startlinecolor": "#2a3f5f"
            },
            "baxis": {
             "endlinecolor": "#2a3f5f",
             "gridcolor": "white",
             "linecolor": "white",
             "minorgridcolor": "white",
             "startlinecolor": "#2a3f5f"
            },
            "type": "carpet"
           }
          ],
          "choropleth": [
           {
            "colorbar": {
             "outlinewidth": 0,
             "ticks": ""
            },
            "type": "choropleth"
           }
          ],
          "contour": [
           {
            "colorbar": {
             "outlinewidth": 0,
             "ticks": ""
            },
            "colorscale": [
             [
              0,
              "#0d0887"
             ],
             [
              0.1111111111111111,
              "#46039f"
             ],
             [
              0.2222222222222222,
              "#7201a8"
             ],
             [
              0.3333333333333333,
              "#9c179e"
             ],
             [
              0.4444444444444444,
              "#bd3786"
             ],
             [
              0.5555555555555556,
              "#d8576b"
             ],
             [
              0.6666666666666666,
              "#ed7953"
             ],
             [
              0.7777777777777778,
              "#fb9f3a"
             ],
             [
              0.8888888888888888,
              "#fdca26"
             ],
             [
              1,
              "#f0f921"
             ]
            ],
            "type": "contour"
           }
          ],
          "contourcarpet": [
           {
            "colorbar": {
             "outlinewidth": 0,
             "ticks": ""
            },
            "type": "contourcarpet"
           }
          ],
          "heatmap": [
           {
            "colorbar": {
             "outlinewidth": 0,
             "ticks": ""
            },
            "colorscale": [
             [
              0,
              "#0d0887"
             ],
             [
              0.1111111111111111,
              "#46039f"
             ],
             [
              0.2222222222222222,
              "#7201a8"
             ],
             [
              0.3333333333333333,
              "#9c179e"
             ],
             [
              0.4444444444444444,
              "#bd3786"
             ],
             [
              0.5555555555555556,
              "#d8576b"
             ],
             [
              0.6666666666666666,
              "#ed7953"
             ],
             [
              0.7777777777777778,
              "#fb9f3a"
             ],
             [
              0.8888888888888888,
              "#fdca26"
             ],
             [
              1,
              "#f0f921"
             ]
            ],
            "type": "heatmap"
           }
          ],
          "heatmapgl": [
           {
            "colorbar": {
             "outlinewidth": 0,
             "ticks": ""
            },
            "colorscale": [
             [
              0,
              "#0d0887"
             ],
             [
              0.1111111111111111,
              "#46039f"
             ],
             [
              0.2222222222222222,
              "#7201a8"
             ],
             [
              0.3333333333333333,
              "#9c179e"
             ],
             [
              0.4444444444444444,
              "#bd3786"
             ],
             [
              0.5555555555555556,
              "#d8576b"
             ],
             [
              0.6666666666666666,
              "#ed7953"
             ],
             [
              0.7777777777777778,
              "#fb9f3a"
             ],
             [
              0.8888888888888888,
              "#fdca26"
             ],
             [
              1,
              "#f0f921"
             ]
            ],
            "type": "heatmapgl"
           }
          ],
          "histogram": [
           {
            "marker": {
             "pattern": {
              "fillmode": "overlay",
              "size": 10,
              "solidity": 0.2
             }
            },
            "type": "histogram"
           }
          ],
          "histogram2d": [
           {
            "colorbar": {
             "outlinewidth": 0,
             "ticks": ""
            },
            "colorscale": [
             [
              0,
              "#0d0887"
             ],
             [
              0.1111111111111111,
              "#46039f"
             ],
             [
              0.2222222222222222,
              "#7201a8"
             ],
             [
              0.3333333333333333,
              "#9c179e"
             ],
             [
              0.4444444444444444,
              "#bd3786"
             ],
             [
              0.5555555555555556,
              "#d8576b"
             ],
             [
              0.6666666666666666,
              "#ed7953"
             ],
             [
              0.7777777777777778,
              "#fb9f3a"
             ],
             [
              0.8888888888888888,
              "#fdca26"
             ],
             [
              1,
              "#f0f921"
             ]
            ],
            "type": "histogram2d"
           }
          ],
          "histogram2dcontour": [
           {
            "colorbar": {
             "outlinewidth": 0,
             "ticks": ""
            },
            "colorscale": [
             [
              0,
              "#0d0887"
             ],
             [
              0.1111111111111111,
              "#46039f"
             ],
             [
              0.2222222222222222,
              "#7201a8"
             ],
             [
              0.3333333333333333,
              "#9c179e"
             ],
             [
              0.4444444444444444,
              "#bd3786"
             ],
             [
              0.5555555555555556,
              "#d8576b"
             ],
             [
              0.6666666666666666,
              "#ed7953"
             ],
             [
              0.7777777777777778,
              "#fb9f3a"
             ],
             [
              0.8888888888888888,
              "#fdca26"
             ],
             [
              1,
              "#f0f921"
             ]
            ],
            "type": "histogram2dcontour"
           }
          ],
          "mesh3d": [
           {
            "colorbar": {
             "outlinewidth": 0,
             "ticks": ""
            },
            "type": "mesh3d"
           }
          ],
          "parcoords": [
           {
            "line": {
             "colorbar": {
              "outlinewidth": 0,
              "ticks": ""
             }
            },
            "type": "parcoords"
           }
          ],
          "pie": [
           {
            "automargin": true,
            "type": "pie"
           }
          ],
          "scatter": [
           {
            "fillpattern": {
             "fillmode": "overlay",
             "size": 10,
             "solidity": 0.2
            },
            "type": "scatter"
           }
          ],
          "scatter3d": [
           {
            "line": {
             "colorbar": {
              "outlinewidth": 0,
              "ticks": ""
             }
            },
            "marker": {
             "colorbar": {
              "outlinewidth": 0,
              "ticks": ""
             }
            },
            "type": "scatter3d"
           }
          ],
          "scattercarpet": [
           {
            "marker": {
             "colorbar": {
              "outlinewidth": 0,
              "ticks": ""
             }
            },
            "type": "scattercarpet"
           }
          ],
          "scattergeo": [
           {
            "marker": {
             "colorbar": {
              "outlinewidth": 0,
              "ticks": ""
             }
            },
            "type": "scattergeo"
           }
          ],
          "scattergl": [
           {
            "marker": {
             "colorbar": {
              "outlinewidth": 0,
              "ticks": ""
             }
            },
            "type": "scattergl"
           }
          ],
          "scattermapbox": [
           {
            "marker": {
             "colorbar": {
              "outlinewidth": 0,
              "ticks": ""
             }
            },
            "type": "scattermapbox"
           }
          ],
          "scatterpolar": [
           {
            "marker": {
             "colorbar": {
              "outlinewidth": 0,
              "ticks": ""
             }
            },
            "type": "scatterpolar"
           }
          ],
          "scatterpolargl": [
           {
            "marker": {
             "colorbar": {
              "outlinewidth": 0,
              "ticks": ""
             }
            },
            "type": "scatterpolargl"
           }
          ],
          "scatterternary": [
           {
            "marker": {
             "colorbar": {
              "outlinewidth": 0,
              "ticks": ""
             }
            },
            "type": "scatterternary"
           }
          ],
          "surface": [
           {
            "colorbar": {
             "outlinewidth": 0,
             "ticks": ""
            },
            "colorscale": [
             [
              0,
              "#0d0887"
             ],
             [
              0.1111111111111111,
              "#46039f"
             ],
             [
              0.2222222222222222,
              "#7201a8"
             ],
             [
              0.3333333333333333,
              "#9c179e"
             ],
             [
              0.4444444444444444,
              "#bd3786"
             ],
             [
              0.5555555555555556,
              "#d8576b"
             ],
             [
              0.6666666666666666,
              "#ed7953"
             ],
             [
              0.7777777777777778,
              "#fb9f3a"
             ],
             [
              0.8888888888888888,
              "#fdca26"
             ],
             [
              1,
              "#f0f921"
             ]
            ],
            "type": "surface"
           }
          ],
          "table": [
           {
            "cells": {
             "fill": {
              "color": "#EBF0F8"
             },
             "line": {
              "color": "white"
             }
            },
            "header": {
             "fill": {
              "color": "#C8D4E3"
             },
             "line": {
              "color": "white"
             }
            },
            "type": "table"
           }
          ]
         },
         "layout": {
          "annotationdefaults": {
           "arrowcolor": "#2a3f5f",
           "arrowhead": 0,
           "arrowwidth": 1
          },
          "autotypenumbers": "strict",
          "coloraxis": {
           "colorbar": {
            "outlinewidth": 0,
            "ticks": ""
           }
          },
          "colorscale": {
           "diverging": [
            [
             0,
             "#8e0152"
            ],
            [
             0.1,
             "#c51b7d"
            ],
            [
             0.2,
             "#de77ae"
            ],
            [
             0.3,
             "#f1b6da"
            ],
            [
             0.4,
             "#fde0ef"
            ],
            [
             0.5,
             "#f7f7f7"
            ],
            [
             0.6,
             "#e6f5d0"
            ],
            [
             0.7,
             "#b8e186"
            ],
            [
             0.8,
             "#7fbc41"
            ],
            [
             0.9,
             "#4d9221"
            ],
            [
             1,
             "#276419"
            ]
           ],
           "sequential": [
            [
             0,
             "#0d0887"
            ],
            [
             0.1111111111111111,
             "#46039f"
            ],
            [
             0.2222222222222222,
             "#7201a8"
            ],
            [
             0.3333333333333333,
             "#9c179e"
            ],
            [
             0.4444444444444444,
             "#bd3786"
            ],
            [
             0.5555555555555556,
             "#d8576b"
            ],
            [
             0.6666666666666666,
             "#ed7953"
            ],
            [
             0.7777777777777778,
             "#fb9f3a"
            ],
            [
             0.8888888888888888,
             "#fdca26"
            ],
            [
             1,
             "#f0f921"
            ]
           ],
           "sequentialminus": [
            [
             0,
             "#0d0887"
            ],
            [
             0.1111111111111111,
             "#46039f"
            ],
            [
             0.2222222222222222,
             "#7201a8"
            ],
            [
             0.3333333333333333,
             "#9c179e"
            ],
            [
             0.4444444444444444,
             "#bd3786"
            ],
            [
             0.5555555555555556,
             "#d8576b"
            ],
            [
             0.6666666666666666,
             "#ed7953"
            ],
            [
             0.7777777777777778,
             "#fb9f3a"
            ],
            [
             0.8888888888888888,
             "#fdca26"
            ],
            [
             1,
             "#f0f921"
            ]
           ]
          },
          "colorway": [
           "#636efa",
           "#EF553B",
           "#00cc96",
           "#ab63fa",
           "#FFA15A",
           "#19d3f3",
           "#FF6692",
           "#B6E880",
           "#FF97FF",
           "#FECB52"
          ],
          "font": {
           "color": "#2a3f5f"
          },
          "geo": {
           "bgcolor": "white",
           "lakecolor": "white",
           "landcolor": "#E5ECF6",
           "showlakes": true,
           "showland": true,
           "subunitcolor": "white"
          },
          "hoverlabel": {
           "align": "left"
          },
          "hovermode": "closest",
          "mapbox": {
           "style": "light"
          },
          "paper_bgcolor": "white",
          "plot_bgcolor": "#E5ECF6",
          "polar": {
           "angularaxis": {
            "gridcolor": "white",
            "linecolor": "white",
            "ticks": ""
           },
           "bgcolor": "#E5ECF6",
           "radialaxis": {
            "gridcolor": "white",
            "linecolor": "white",
            "ticks": ""
           }
          },
          "scene": {
           "xaxis": {
            "backgroundcolor": "#E5ECF6",
            "gridcolor": "white",
            "gridwidth": 2,
            "linecolor": "white",
            "showbackground": true,
            "ticks": "",
            "zerolinecolor": "white"
           },
           "yaxis": {
            "backgroundcolor": "#E5ECF6",
            "gridcolor": "white",
            "gridwidth": 2,
            "linecolor": "white",
            "showbackground": true,
            "ticks": "",
            "zerolinecolor": "white"
           },
           "zaxis": {
            "backgroundcolor": "#E5ECF6",
            "gridcolor": "white",
            "gridwidth": 2,
            "linecolor": "white",
            "showbackground": true,
            "ticks": "",
            "zerolinecolor": "white"
           }
          },
          "shapedefaults": {
           "line": {
            "color": "#2a3f5f"
           }
          },
          "ternary": {
           "aaxis": {
            "gridcolor": "white",
            "linecolor": "white",
            "ticks": ""
           },
           "baxis": {
            "gridcolor": "white",
            "linecolor": "white",
            "ticks": ""
           },
           "bgcolor": "#E5ECF6",
           "caxis": {
            "gridcolor": "white",
            "linecolor": "white",
            "ticks": ""
           }
          },
          "title": {
           "x": 0.05
          },
          "xaxis": {
           "automargin": true,
           "gridcolor": "white",
           "linecolor": "white",
           "ticks": "",
           "title": {
            "standoff": 15
           },
           "zerolinecolor": "white",
           "zerolinewidth": 2
          },
          "yaxis": {
           "automargin": true,
           "gridcolor": "white",
           "linecolor": "white",
           "ticks": "",
           "title": {
            "standoff": 15
           },
           "zerolinecolor": "white",
           "zerolinewidth": 2
          }
         }
        },
        "title": {
         "text": "PCA Plot of Samples"
        },
        "xaxis": {
         "anchor": "y",
         "domain": [
          0,
          1
         ],
         "title": {
          "text": "Principal Component 1"
         }
        },
        "yaxis": {
         "anchor": "x",
         "domain": [
          0,
          1
         ],
         "title": {
          "text": "Principal Component 2"
         }
        }
       }
      },
      "text/html": [
       "<div>                            <div id=\"e5fcc68c-bad6-454d-b3cc-ecb63196980d\" class=\"plotly-graph-div\" style=\"height:525px; width:100%;\"></div>            <script type=\"text/javascript\">                require([\"plotly\"], function(Plotly) {                    window.PLOTLYENV=window.PLOTLYENV || {};                                    if (document.getElementById(\"e5fcc68c-bad6-454d-b3cc-ecb63196980d\")) {                    Plotly.newPlot(                        \"e5fcc68c-bad6-454d-b3cc-ecb63196980d\",                        [{\"customdata\":[[4],[6],[11],[15],[17],[20],[21],[26],[29],[31],[33],[36],[44],[45],[46],[47],[48],[49],[52],[55],[63],[64],[65],[66],[67],[68],[69],[70],[71],[72],[73],[74],[76],[77],[78],[79],[80],[81],[82],[83],[84],[85],[86],[87],[88],[89],[90],[91],[92],[93],[94],[95],[96],[97],[98],[99],[100],[101],[102],[103],[104],[105],[106],[107],[108],[109],[110],[111],[112],[114],[115],[116],[117],[118]],\"hovertemplate\":\"PC1=%{x}\\u003cbr\\u003ePC2=%{y}\\u003cbr\\u003esubject_id=%{customdata[0]}\\u003cextra\\u003e\\u003c\\u002fextra\\u003e\",\"legendgroup\":\"\",\"marker\":{\"color\":\"#636efa\",\"symbol\":\"circle\"},\"mode\":\"markers+text\",\"name\":\"\",\"orientation\":\"v\",\"showlegend\":false,\"text\":[4.0,6.0,11.0,15.0,17.0,20.0,21.0,26.0,29.0,31.0,33.0,36.0,44.0,45.0,46.0,47.0,48.0,49.0,52.0,55.0,63.0,64.0,65.0,66.0,67.0,68.0,69.0,70.0,71.0,72.0,73.0,74.0,76.0,77.0,78.0,79.0,80.0,81.0,82.0,83.0,84.0,85.0,86.0,87.0,88.0,89.0,90.0,91.0,92.0,93.0,94.0,95.0,96.0,97.0,98.0,99.0,100.0,101.0,102.0,103.0,104.0,105.0,106.0,107.0,108.0,109.0,110.0,111.0,112.0,114.0,115.0,116.0,117.0,118.0],\"x\":[-4.114418094525256,2.695618460495623,-3.331926674553271,-0.3599835844499135,-1.6404129931012503,1.5200356159045765,1.620909990967537,-4.304055549048389,-1.299706196031814,-4.229569488783775,-1.7195195019080352,-2.5980764990315803,1.729659246169034,-0.5981627861137264,3.324831054759853,-2.837963775062688,0.2066395802947809,-1.1785557934236524,4.779516148163685,-0.6002165923633662,-4.45546638723811,-2.214991640199635,-2.041854117444169,-5.285591064317087,0.8324735450246566,-3.975610451164618,-5.200615926630759,2.1706533119492444,-3.472804827889093,0.2713579061577797,-4.029212371253546,3.6889076859746797,-2.934020926802562,3.6808603884012365,0.5503776350741126,4.239766637543707,5.099577215874284,5.030632307786453,-0.16325631907614485,1.6891944745653817,-1.3065974405920897,-2.902933950624131,-0.873706262013037,-1.3583304094196618,-0.6336195466988569,-3.632628631557334,-1.385538750543787,2.500959808553732,2.7028235231680005,-1.7741693081588874,0.4246295465825856,-1.1162549366501011,4.67826627055873,4.014603111247896,-1.607307890483677,3.194857751694039,0.006626818885990112,-1.4152284762673932,3.323486447397427,1.7052572526540504,2.0467035551266686,2.2479006174258225,-1.9490431550156357,-0.5970989095535085,0.05881507363299407,0.7014996608973695,3.77218610074113,7.068031562047763,0.3571183476893638,1.9337988820137166,-0.42583915567803526,2.590046991952236,-1.8549134983287627,-1.0394206453788124],\"xaxis\":\"x\",\"y\":[-10.366980871931908,1.1877880667893073,2.2689253273862917,2.4569480764522305,2.1031600578005802,-1.6670670496701423,-4.518916094282034,-0.44218619957540345,-4.1913210678164745,3.3008456000315833,0.6034616268034326,-0.17406881948850564,-1.0428582497660157,0.14831244893566942,1.692064329655513,1.213348540938945,1.4691459658400756,4.537651496778224,-1.0517037735725427,0.6979705321010812,-1.4441756503415368,3.346886413656374,-1.0633740705273007,1.1239974645645323,-3.398304643292482,-2.911937332926939,-0.9392192018834588,-2.545537739197493,2.3599533712489955,-2.090561281357265,-1.5100380487005443,-2.8267720006321633,-1.0980859277460586,-0.2713463488946615,-1.8021640502772034,-3.568092070906965,3.0293916465878357,1.5383403867492147,3.3719272470659276,-0.4409183737603382,-1.423230260401166,0.6383534921003515,0.6402089310148867,0.4532415853053023,-0.7420784036478769,2.5058955036434347,1.5732639372719184,-1.156851761490763,-0.41516111826872837,0.866688443477841,-1.164573086002989,2.6741199403542395,1.8444566498476513,0.21587345253174442,0.188577664092915,3.9955886887663317,-0.03290328731814796,-1.1123151795625372,-2.1168220635761568,-0.9229721251174505,6.68112773885174,0.5123095885837216,-0.6812063382856555,0.3965317651298377,-0.4207745836688427,1.5844720470946412,-1.5603799889592418,-0.8853014565538643,-1.4015041399427244,-0.4520013980220881,2.2697418512249916,-0.3295012502413171,-0.23450178768865004,0.9271372166182775],\"yaxis\":\"y\",\"type\":\"scatter\",\"textposition\":\"top center\"}],                        {\"template\":{\"data\":{\"histogram2dcontour\":[{\"type\":\"histogram2dcontour\",\"colorbar\":{\"outlinewidth\":0,\"ticks\":\"\"},\"colorscale\":[[0.0,\"#0d0887\"],[0.1111111111111111,\"#46039f\"],[0.2222222222222222,\"#7201a8\"],[0.3333333333333333,\"#9c179e\"],[0.4444444444444444,\"#bd3786\"],[0.5555555555555556,\"#d8576b\"],[0.6666666666666666,\"#ed7953\"],[0.7777777777777778,\"#fb9f3a\"],[0.8888888888888888,\"#fdca26\"],[1.0,\"#f0f921\"]]}],\"choropleth\":[{\"type\":\"choropleth\",\"colorbar\":{\"outlinewidth\":0,\"ticks\":\"\"}}],\"histogram2d\":[{\"type\":\"histogram2d\",\"colorbar\":{\"outlinewidth\":0,\"ticks\":\"\"},\"colorscale\":[[0.0,\"#0d0887\"],[0.1111111111111111,\"#46039f\"],[0.2222222222222222,\"#7201a8\"],[0.3333333333333333,\"#9c179e\"],[0.4444444444444444,\"#bd3786\"],[0.5555555555555556,\"#d8576b\"],[0.6666666666666666,\"#ed7953\"],[0.7777777777777778,\"#fb9f3a\"],[0.8888888888888888,\"#fdca26\"],[1.0,\"#f0f921\"]]}],\"heatmap\":[{\"type\":\"heatmap\",\"colorbar\":{\"outlinewidth\":0,\"ticks\":\"\"},\"colorscale\":[[0.0,\"#0d0887\"],[0.1111111111111111,\"#46039f\"],[0.2222222222222222,\"#7201a8\"],[0.3333333333333333,\"#9c179e\"],[0.4444444444444444,\"#bd3786\"],[0.5555555555555556,\"#d8576b\"],[0.6666666666666666,\"#ed7953\"],[0.7777777777777778,\"#fb9f3a\"],[0.8888888888888888,\"#fdca26\"],[1.0,\"#f0f921\"]]}],\"heatmapgl\":[{\"type\":\"heatmapgl\",\"colorbar\":{\"outlinewidth\":0,\"ticks\":\"\"},\"colorscale\":[[0.0,\"#0d0887\"],[0.1111111111111111,\"#46039f\"],[0.2222222222222222,\"#7201a8\"],[0.3333333333333333,\"#9c179e\"],[0.4444444444444444,\"#bd3786\"],[0.5555555555555556,\"#d8576b\"],[0.6666666666666666,\"#ed7953\"],[0.7777777777777778,\"#fb9f3a\"],[0.8888888888888888,\"#fdca26\"],[1.0,\"#f0f921\"]]}],\"contourcarpet\":[{\"type\":\"contourcarpet\",\"colorbar\":{\"outlinewidth\":0,\"ticks\":\"\"}}],\"contour\":[{\"type\":\"contour\",\"colorbar\":{\"outlinewidth\":0,\"ticks\":\"\"},\"colorscale\":[[0.0,\"#0d0887\"],[0.1111111111111111,\"#46039f\"],[0.2222222222222222,\"#7201a8\"],[0.3333333333333333,\"#9c179e\"],[0.4444444444444444,\"#bd3786\"],[0.5555555555555556,\"#d8576b\"],[0.6666666666666666,\"#ed7953\"],[0.7777777777777778,\"#fb9f3a\"],[0.8888888888888888,\"#fdca26\"],[1.0,\"#f0f921\"]]}],\"surface\":[{\"type\":\"surface\",\"colorbar\":{\"outlinewidth\":0,\"ticks\":\"\"},\"colorscale\":[[0.0,\"#0d0887\"],[0.1111111111111111,\"#46039f\"],[0.2222222222222222,\"#7201a8\"],[0.3333333333333333,\"#9c179e\"],[0.4444444444444444,\"#bd3786\"],[0.5555555555555556,\"#d8576b\"],[0.6666666666666666,\"#ed7953\"],[0.7777777777777778,\"#fb9f3a\"],[0.8888888888888888,\"#fdca26\"],[1.0,\"#f0f921\"]]}],\"mesh3d\":[{\"type\":\"mesh3d\",\"colorbar\":{\"outlinewidth\":0,\"ticks\":\"\"}}],\"scatter\":[{\"fillpattern\":{\"fillmode\":\"overlay\",\"size\":10,\"solidity\":0.2},\"type\":\"scatter\"}],\"parcoords\":[{\"type\":\"parcoords\",\"line\":{\"colorbar\":{\"outlinewidth\":0,\"ticks\":\"\"}}}],\"scatterpolargl\":[{\"type\":\"scatterpolargl\",\"marker\":{\"colorbar\":{\"outlinewidth\":0,\"ticks\":\"\"}}}],\"bar\":[{\"error_x\":{\"color\":\"#2a3f5f\"},\"error_y\":{\"color\":\"#2a3f5f\"},\"marker\":{\"line\":{\"color\":\"#E5ECF6\",\"width\":0.5},\"pattern\":{\"fillmode\":\"overlay\",\"size\":10,\"solidity\":0.2}},\"type\":\"bar\"}],\"scattergeo\":[{\"type\":\"scattergeo\",\"marker\":{\"colorbar\":{\"outlinewidth\":0,\"ticks\":\"\"}}}],\"scatterpolar\":[{\"type\":\"scatterpolar\",\"marker\":{\"colorbar\":{\"outlinewidth\":0,\"ticks\":\"\"}}}],\"histogram\":[{\"marker\":{\"pattern\":{\"fillmode\":\"overlay\",\"size\":10,\"solidity\":0.2}},\"type\":\"histogram\"}],\"scattergl\":[{\"type\":\"scattergl\",\"marker\":{\"colorbar\":{\"outlinewidth\":0,\"ticks\":\"\"}}}],\"scatter3d\":[{\"type\":\"scatter3d\",\"line\":{\"colorbar\":{\"outlinewidth\":0,\"ticks\":\"\"}},\"marker\":{\"colorbar\":{\"outlinewidth\":0,\"ticks\":\"\"}}}],\"scattermapbox\":[{\"type\":\"scattermapbox\",\"marker\":{\"colorbar\":{\"outlinewidth\":0,\"ticks\":\"\"}}}],\"scatterternary\":[{\"type\":\"scatterternary\",\"marker\":{\"colorbar\":{\"outlinewidth\":0,\"ticks\":\"\"}}}],\"scattercarpet\":[{\"type\":\"scattercarpet\",\"marker\":{\"colorbar\":{\"outlinewidth\":0,\"ticks\":\"\"}}}],\"carpet\":[{\"aaxis\":{\"endlinecolor\":\"#2a3f5f\",\"gridcolor\":\"white\",\"linecolor\":\"white\",\"minorgridcolor\":\"white\",\"startlinecolor\":\"#2a3f5f\"},\"baxis\":{\"endlinecolor\":\"#2a3f5f\",\"gridcolor\":\"white\",\"linecolor\":\"white\",\"minorgridcolor\":\"white\",\"startlinecolor\":\"#2a3f5f\"},\"type\":\"carpet\"}],\"table\":[{\"cells\":{\"fill\":{\"color\":\"#EBF0F8\"},\"line\":{\"color\":\"white\"}},\"header\":{\"fill\":{\"color\":\"#C8D4E3\"},\"line\":{\"color\":\"white\"}},\"type\":\"table\"}],\"barpolar\":[{\"marker\":{\"line\":{\"color\":\"#E5ECF6\",\"width\":0.5},\"pattern\":{\"fillmode\":\"overlay\",\"size\":10,\"solidity\":0.2}},\"type\":\"barpolar\"}],\"pie\":[{\"automargin\":true,\"type\":\"pie\"}]},\"layout\":{\"autotypenumbers\":\"strict\",\"colorway\":[\"#636efa\",\"#EF553B\",\"#00cc96\",\"#ab63fa\",\"#FFA15A\",\"#19d3f3\",\"#FF6692\",\"#B6E880\",\"#FF97FF\",\"#FECB52\"],\"font\":{\"color\":\"#2a3f5f\"},\"hovermode\":\"closest\",\"hoverlabel\":{\"align\":\"left\"},\"paper_bgcolor\":\"white\",\"plot_bgcolor\":\"#E5ECF6\",\"polar\":{\"bgcolor\":\"#E5ECF6\",\"angularaxis\":{\"gridcolor\":\"white\",\"linecolor\":\"white\",\"ticks\":\"\"},\"radialaxis\":{\"gridcolor\":\"white\",\"linecolor\":\"white\",\"ticks\":\"\"}},\"ternary\":{\"bgcolor\":\"#E5ECF6\",\"aaxis\":{\"gridcolor\":\"white\",\"linecolor\":\"white\",\"ticks\":\"\"},\"baxis\":{\"gridcolor\":\"white\",\"linecolor\":\"white\",\"ticks\":\"\"},\"caxis\":{\"gridcolor\":\"white\",\"linecolor\":\"white\",\"ticks\":\"\"}},\"coloraxis\":{\"colorbar\":{\"outlinewidth\":0,\"ticks\":\"\"}},\"colorscale\":{\"sequential\":[[0.0,\"#0d0887\"],[0.1111111111111111,\"#46039f\"],[0.2222222222222222,\"#7201a8\"],[0.3333333333333333,\"#9c179e\"],[0.4444444444444444,\"#bd3786\"],[0.5555555555555556,\"#d8576b\"],[0.6666666666666666,\"#ed7953\"],[0.7777777777777778,\"#fb9f3a\"],[0.8888888888888888,\"#fdca26\"],[1.0,\"#f0f921\"]],\"sequentialminus\":[[0.0,\"#0d0887\"],[0.1111111111111111,\"#46039f\"],[0.2222222222222222,\"#7201a8\"],[0.3333333333333333,\"#9c179e\"],[0.4444444444444444,\"#bd3786\"],[0.5555555555555556,\"#d8576b\"],[0.6666666666666666,\"#ed7953\"],[0.7777777777777778,\"#fb9f3a\"],[0.8888888888888888,\"#fdca26\"],[1.0,\"#f0f921\"]],\"diverging\":[[0,\"#8e0152\"],[0.1,\"#c51b7d\"],[0.2,\"#de77ae\"],[0.3,\"#f1b6da\"],[0.4,\"#fde0ef\"],[0.5,\"#f7f7f7\"],[0.6,\"#e6f5d0\"],[0.7,\"#b8e186\"],[0.8,\"#7fbc41\"],[0.9,\"#4d9221\"],[1,\"#276419\"]]},\"xaxis\":{\"gridcolor\":\"white\",\"linecolor\":\"white\",\"ticks\":\"\",\"title\":{\"standoff\":15},\"zerolinecolor\":\"white\",\"automargin\":true,\"zerolinewidth\":2},\"yaxis\":{\"gridcolor\":\"white\",\"linecolor\":\"white\",\"ticks\":\"\",\"title\":{\"standoff\":15},\"zerolinecolor\":\"white\",\"automargin\":true,\"zerolinewidth\":2},\"scene\":{\"xaxis\":{\"backgroundcolor\":\"#E5ECF6\",\"gridcolor\":\"white\",\"linecolor\":\"white\",\"showbackground\":true,\"ticks\":\"\",\"zerolinecolor\":\"white\",\"gridwidth\":2},\"yaxis\":{\"backgroundcolor\":\"#E5ECF6\",\"gridcolor\":\"white\",\"linecolor\":\"white\",\"showbackground\":true,\"ticks\":\"\",\"zerolinecolor\":\"white\",\"gridwidth\":2},\"zaxis\":{\"backgroundcolor\":\"#E5ECF6\",\"gridcolor\":\"white\",\"linecolor\":\"white\",\"showbackground\":true,\"ticks\":\"\",\"zerolinecolor\":\"white\",\"gridwidth\":2}},\"shapedefaults\":{\"line\":{\"color\":\"#2a3f5f\"}},\"annotationdefaults\":{\"arrowcolor\":\"#2a3f5f\",\"arrowhead\":0,\"arrowwidth\":1},\"geo\":{\"bgcolor\":\"white\",\"landcolor\":\"#E5ECF6\",\"subunitcolor\":\"white\",\"showland\":true,\"showlakes\":true,\"lakecolor\":\"white\"},\"title\":{\"x\":0.05},\"mapbox\":{\"style\":\"light\"}}},\"xaxis\":{\"anchor\":\"y\",\"domain\":[0.0,1.0],\"title\":{\"text\":\"Principal Component 1\"}},\"yaxis\":{\"anchor\":\"x\",\"domain\":[0.0,1.0],\"title\":{\"text\":\"Principal Component 2\"}},\"legend\":{\"tracegroupgap\":0,\"title\":{\"text\":\"Subject ID\"}},\"margin\":{\"t\":60},\"title\":{\"text\":\"PCA Plot of Samples\"}},                        {\"responsive\": true}                    ).then(function(){\n",
       "                            \n",
       "var gd = document.getElementById('e5fcc68c-bad6-454d-b3cc-ecb63196980d');\n",
       "var x = new MutationObserver(function (mutations, observer) {{\n",
       "        var display = window.getComputedStyle(gd).display;\n",
       "        if (!display || display === 'none') {{\n",
       "            console.log([gd, 'removed!']);\n",
       "            Plotly.purge(gd);\n",
       "            observer.disconnect();\n",
       "        }}\n",
       "}});\n",
       "\n",
       "// Listen for the removal of the full notebook cells\n",
       "var notebookContainer = gd.closest('#notebook-container');\n",
       "if (notebookContainer) {{\n",
       "    x.observe(notebookContainer, {childList: true});\n",
       "}}\n",
       "\n",
       "// Listen for the clearing of the current output cell\n",
       "var outputEl = gd.closest('.output');\n",
       "if (outputEl) {{\n",
       "    x.observe(outputEl, {childList: true});\n",
       "}}\n",
       "\n",
       "                        })                };                });            </script>        </div>"
      ]
     },
     "metadata": {},
     "output_type": "display_data"
    }
   ],
   "source": [
    "import pandas as pd\n",
    "from sklearn.decomposition import PCA\n",
    "from sklearn.preprocessing import StandardScaler\n",
    "import plotly.express as px\n",
    "\n",
    "# Assuming 'df' is your DataFrame and it includes a 'subject_id'\n",
    "\n",
    "# Exclude the first four categorical columns and standardize the rest\n",
    "X = df.iloc[:, 8:]  # Adjust as necessary\n",
    "scaler = StandardScaler()\n",
    "X_scaled = scaler.fit_transform(X)\n",
    "\n",
    "# Perform PCA\n",
    "pca = PCA(n_components=2)\n",
    "principal_components = pca.fit_transform(X_scaled)\n",
    "\n",
    "# Create a DataFrame with the principal components\n",
    "pca_df = pd.DataFrame(data=principal_components, columns=['PC1', 'PC2'])\n",
    "\n",
    "# Add 'subject_id' for labeling in the plot\n",
    "pca_df['subject_id'] = df['subject_id']  # Adjust this if using a different identifier\n",
    "\n",
    "# Create an interactive scatter plot with Plotly Express\n",
    "fig = px.scatter(pca_df, x='PC1', y='PC2', text='subject_id', hover_data=['subject_id'])\n",
    "fig.update_traces(textposition='top center')\n",
    "\n",
    "# Enhance the plot with titles and labels\n",
    "fig.update_layout(title='PCA Plot of Samples',\n",
    "                  xaxis_title='Principal Component 1',\n",
    "                  yaxis_title='Principal Component 2',\n",
    "                  legend_title='Subject ID')\n",
    "\n",
    "# Show the plot\n",
    "fig.show()\n"
   ]
  },
  {
   "cell_type": "code",
   "execution_count": 86,
   "id": "ec4f0fca",
   "metadata": {},
   "outputs": [
    {
     "name": "stdout",
     "output_type": "stream",
     "text": [
      "Explained variance by PC1: 18.42%\n",
      "Explained variance by PC2: 13.17%\n"
     ]
    }
   ],
   "source": [
    "# Explained variance ratio\n",
    "explained_variance = pca.explained_variance_ratio_\n",
    "print(f\"Explained variance by PC1: {explained_variance[0]*100:.2f}%\")\n",
    "print(f\"Explained variance by PC2: {explained_variance[1]*100:.2f}%\")\n"
   ]
  },
  {
   "cell_type": "code",
   "execution_count": null,
   "id": "50c87345",
   "metadata": {},
   "outputs": [],
   "source": []
  },
  {
   "cell_type": "markdown",
   "id": "0c3d7db8",
   "metadata": {},
   "source": [
    "# Task 4.1 data processing"
   ]
  },
  {
   "cell_type": "code",
   "execution_count": null,
   "id": "87054949",
   "metadata": {},
   "outputs": [],
   "source": [
    "import pandas as pd\n",
    "\n",
    "df = pd.read_csv('/home/vmottaqi/cmipb_challenge/batch_corrected_data/plasma_ab_titer_batchCorrected_data.tsv', index_col=0, sep=\"\\t\")\n",
    "df"
   ]
  },
  {
   "cell_type": "code",
   "execution_count": 4,
   "id": "d43c20c2",
   "metadata": {},
   "outputs": [
    {
     "data": {
      "text/html": [
       "<div>\n",
       "<style scoped>\n",
       "    .dataframe tbody tr th:only-of-type {\n",
       "        vertical-align: middle;\n",
       "    }\n",
       "\n",
       "    .dataframe tbody tr th {\n",
       "        vertical-align: top;\n",
       "    }\n",
       "\n",
       "    .dataframe thead th {\n",
       "        text-align: right;\n",
       "    }\n",
       "</style>\n",
       "<table border=\"1\" class=\"dataframe\">\n",
       "  <thead>\n",
       "    <tr style=\"text-align: right;\">\n",
       "      <th></th>\n",
       "      <th>IgG_PT</th>\n",
       "      <th>IgG_PRN</th>\n",
       "      <th>IgG_FHA</th>\n",
       "      <th>IgG1_PT</th>\n",
       "      <th>IgG1_PRN</th>\n",
       "      <th>IgG1_FHA</th>\n",
       "      <th>IgG1_FIM2/3</th>\n",
       "      <th>IgG1_TT</th>\n",
       "      <th>IgG1_DT</th>\n",
       "      <th>IgG1_OVA</th>\n",
       "      <th>...</th>\n",
       "      <th>IgG3_TT</th>\n",
       "      <th>IgG3_DT</th>\n",
       "      <th>IgG3_OVA</th>\n",
       "      <th>IgG4_PT</th>\n",
       "      <th>IgG4_PRN</th>\n",
       "      <th>IgG4_FHA</th>\n",
       "      <th>IgG4_FIM2/3</th>\n",
       "      <th>IgG4_TT</th>\n",
       "      <th>IgG4_DT</th>\n",
       "      <th>IgG4_OVA</th>\n",
       "    </tr>\n",
       "    <tr>\n",
       "      <th>specimen_id</th>\n",
       "      <th></th>\n",
       "      <th></th>\n",
       "      <th></th>\n",
       "      <th></th>\n",
       "      <th></th>\n",
       "      <th></th>\n",
       "      <th></th>\n",
       "      <th></th>\n",
       "      <th></th>\n",
       "      <th></th>\n",
       "      <th></th>\n",
       "      <th></th>\n",
       "      <th></th>\n",
       "      <th></th>\n",
       "      <th></th>\n",
       "      <th></th>\n",
       "      <th></th>\n",
       "      <th></th>\n",
       "      <th></th>\n",
       "      <th></th>\n",
       "      <th></th>\n",
       "    </tr>\n",
       "  </thead>\n",
       "  <tbody>\n",
       "    <tr>\n",
       "      <th>1</th>\n",
       "      <td>3.736992</td>\n",
       "      <td>2.602350</td>\n",
       "      <td>34.050956</td>\n",
       "      <td>7.334714</td>\n",
       "      <td>2.174783</td>\n",
       "      <td>3.013252</td>\n",
       "      <td>1.188744</td>\n",
       "      <td>1.428852</td>\n",
       "      <td>2.389153</td>\n",
       "      <td>0.665203</td>\n",
       "      <td>...</td>\n",
       "      <td>1.000000</td>\n",
       "      <td>3.358159</td>\n",
       "      <td>1.865388</td>\n",
       "      <td>1.061706</td>\n",
       "      <td>11.673594</td>\n",
       "      <td>0.880611</td>\n",
       "      <td>0.980223</td>\n",
       "      <td>3.290050</td>\n",
       "      <td>1.232849</td>\n",
       "      <td>2.622675</td>\n",
       "    </tr>\n",
       "    <tr>\n",
       "      <th>19</th>\n",
       "      <td>1.096366</td>\n",
       "      <td>7.652635</td>\n",
       "      <td>1.096457</td>\n",
       "      <td>1.424098</td>\n",
       "      <td>3.161591</td>\n",
       "      <td>1.287515</td>\n",
       "      <td>0.322658</td>\n",
       "      <td>1.377390</td>\n",
       "      <td>1.523941</td>\n",
       "      <td>33.771912</td>\n",
       "      <td>...</td>\n",
       "      <td>1.000000</td>\n",
       "      <td>0.856594</td>\n",
       "      <td>1.119233</td>\n",
       "      <td>1.000000</td>\n",
       "      <td>0.733287</td>\n",
       "      <td>0.057114</td>\n",
       "      <td>0.980223</td>\n",
       "      <td>0.024820</td>\n",
       "      <td>0.003253</td>\n",
       "      <td>0.053981</td>\n",
       "    </tr>\n",
       "    <tr>\n",
       "      <th>27</th>\n",
       "      <td>2.046671</td>\n",
       "      <td>5.670403</td>\n",
       "      <td>1.048276</td>\n",
       "      <td>3.888604</td>\n",
       "      <td>2.591155</td>\n",
       "      <td>1.269821</td>\n",
       "      <td>2.621216</td>\n",
       "      <td>1.675259</td>\n",
       "      <td>2.022924</td>\n",
       "      <td>5.777047</td>\n",
       "      <td>...</td>\n",
       "      <td>2.336770</td>\n",
       "      <td>0.856594</td>\n",
       "      <td>1.000000</td>\n",
       "      <td>6.582579</td>\n",
       "      <td>3.261863</td>\n",
       "      <td>1.089128</td>\n",
       "      <td>40.303354</td>\n",
       "      <td>1.635454</td>\n",
       "      <td>0.634256</td>\n",
       "      <td>2.021985</td>\n",
       "    </tr>\n",
       "    <tr>\n",
       "      <th>37</th>\n",
       "      <td>3.798007</td>\n",
       "      <td>5.268274</td>\n",
       "      <td>0.084437</td>\n",
       "      <td>7.456313</td>\n",
       "      <td>2.760065</td>\n",
       "      <td>2.864834</td>\n",
       "      <td>7.487345</td>\n",
       "      <td>1.537432</td>\n",
       "      <td>2.250237</td>\n",
       "      <td>4.130732</td>\n",
       "      <td>...</td>\n",
       "      <td>2.514246</td>\n",
       "      <td>14.818885</td>\n",
       "      <td>5.446934</td>\n",
       "      <td>44.804003</td>\n",
       "      <td>1.112574</td>\n",
       "      <td>24.353645</td>\n",
       "      <td>4.855024</td>\n",
       "      <td>0.920018</td>\n",
       "      <td>1.879391</td>\n",
       "      <td>1.569320</td>\n",
       "    </tr>\n",
       "    <tr>\n",
       "      <th>45</th>\n",
       "      <td>0.213328</td>\n",
       "      <td>0.090176</td>\n",
       "      <td>0.379290</td>\n",
       "      <td>0.084132</td>\n",
       "      <td>0.025479</td>\n",
       "      <td>0.654192</td>\n",
       "      <td>0.681225</td>\n",
       "      <td>0.874920</td>\n",
       "      <td>0.369367</td>\n",
       "      <td>10.452881</td>\n",
       "      <td>...</td>\n",
       "      <td>1.000000</td>\n",
       "      <td>0.856594</td>\n",
       "      <td>13.206949</td>\n",
       "      <td>1.000000</td>\n",
       "      <td>0.208993</td>\n",
       "      <td>0.984870</td>\n",
       "      <td>1.529665</td>\n",
       "      <td>3.565218</td>\n",
       "      <td>0.676574</td>\n",
       "      <td>7.648106</td>\n",
       "    </tr>\n",
       "    <tr>\n",
       "      <th>...</th>\n",
       "      <td>...</td>\n",
       "      <td>...</td>\n",
       "      <td>...</td>\n",
       "      <td>...</td>\n",
       "      <td>...</td>\n",
       "      <td>...</td>\n",
       "      <td>...</td>\n",
       "      <td>...</td>\n",
       "      <td>...</td>\n",
       "      <td>...</td>\n",
       "      <td>...</td>\n",
       "      <td>...</td>\n",
       "      <td>...</td>\n",
       "      <td>...</td>\n",
       "      <td>...</td>\n",
       "      <td>...</td>\n",
       "      <td>...</td>\n",
       "      <td>...</td>\n",
       "      <td>...</td>\n",
       "      <td>...</td>\n",
       "      <td>...</td>\n",
       "    </tr>\n",
       "    <tr>\n",
       "      <th>902</th>\n",
       "      <td>1.735520</td>\n",
       "      <td>0.532952</td>\n",
       "      <td>1.224150</td>\n",
       "      <td>1.398202</td>\n",
       "      <td>2.070417</td>\n",
       "      <td>1.229332</td>\n",
       "      <td>1.715939</td>\n",
       "      <td>1.389705</td>\n",
       "      <td>0.024896</td>\n",
       "      <td>0.303108</td>\n",
       "      <td>...</td>\n",
       "      <td>19.846809</td>\n",
       "      <td>2.076923</td>\n",
       "      <td>1.844086</td>\n",
       "      <td>2.886891</td>\n",
       "      <td>12.996768</td>\n",
       "      <td>1.518500</td>\n",
       "      <td>2.012658</td>\n",
       "      <td>0.790889</td>\n",
       "      <td>0.588889</td>\n",
       "      <td>3.554956</td>\n",
       "    </tr>\n",
       "    <tr>\n",
       "      <th>883</th>\n",
       "      <td>1.566040</td>\n",
       "      <td>0.396070</td>\n",
       "      <td>0.983044</td>\n",
       "      <td>0.503570</td>\n",
       "      <td>0.327009</td>\n",
       "      <td>1.764053</td>\n",
       "      <td>2.063735</td>\n",
       "      <td>1.525572</td>\n",
       "      <td>0.000000</td>\n",
       "      <td>0.014739</td>\n",
       "      <td>...</td>\n",
       "      <td>0.655319</td>\n",
       "      <td>1.000000</td>\n",
       "      <td>0.311828</td>\n",
       "      <td>7.627528</td>\n",
       "      <td>19.975069</td>\n",
       "      <td>5.265332</td>\n",
       "      <td>1.094937</td>\n",
       "      <td>0.441748</td>\n",
       "      <td>2.922222</td>\n",
       "      <td>2.445307</td>\n",
       "    </tr>\n",
       "    <tr>\n",
       "      <th>772</th>\n",
       "      <td>1.651583</td>\n",
       "      <td>1.054186</td>\n",
       "      <td>0.703936</td>\n",
       "      <td>1.334020</td>\n",
       "      <td>1.020310</td>\n",
       "      <td>0.692335</td>\n",
       "      <td>0.010939</td>\n",
       "      <td>0.911988</td>\n",
       "      <td>1.307054</td>\n",
       "      <td>4.913810</td>\n",
       "      <td>...</td>\n",
       "      <td>0.119149</td>\n",
       "      <td>0.384615</td>\n",
       "      <td>0.403226</td>\n",
       "      <td>8.119982</td>\n",
       "      <td>14.441828</td>\n",
       "      <td>0.998733</td>\n",
       "      <td>0.949367</td>\n",
       "      <td>8.176064</td>\n",
       "      <td>2.000000</td>\n",
       "      <td>3.335746</td>\n",
       "    </tr>\n",
       "    <tr>\n",
       "      <th>745</th>\n",
       "      <td>1.388102</td>\n",
       "      <td>1.804878</td>\n",
       "      <td>1.302874</td>\n",
       "      <td>1.590380</td>\n",
       "      <td>1.731545</td>\n",
       "      <td>2.124361</td>\n",
       "      <td>1.384233</td>\n",
       "      <td>1.243570</td>\n",
       "      <td>1.228216</td>\n",
       "      <td>7.970522</td>\n",
       "      <td>...</td>\n",
       "      <td>19.861702</td>\n",
       "      <td>2.661538</td>\n",
       "      <td>1.319892</td>\n",
       "      <td>0.088530</td>\n",
       "      <td>0.301016</td>\n",
       "      <td>0.061835</td>\n",
       "      <td>0.335443</td>\n",
       "      <td>0.038462</td>\n",
       "      <td>0.533333</td>\n",
       "      <td>0.771513</td>\n",
       "    </tr>\n",
       "    <tr>\n",
       "      <th>805</th>\n",
       "      <td>1.015227</td>\n",
       "      <td>2.068089</td>\n",
       "      <td>1.491173</td>\n",
       "      <td>1.362366</td>\n",
       "      <td>1.800630</td>\n",
       "      <td>2.118669</td>\n",
       "      <td>3.345177</td>\n",
       "      <td>1.359833</td>\n",
       "      <td>6.589212</td>\n",
       "      <td>5.619032</td>\n",
       "      <td>...</td>\n",
       "      <td>0.978723</td>\n",
       "      <td>2.046154</td>\n",
       "      <td>1.505376</td>\n",
       "      <td>1.430571</td>\n",
       "      <td>10.552170</td>\n",
       "      <td>1.392803</td>\n",
       "      <td>1.082278</td>\n",
       "      <td>1.100822</td>\n",
       "      <td>1.144444</td>\n",
       "      <td>4.026601</td>\n",
       "    </tr>\n",
       "  </tbody>\n",
       "</table>\n",
       "<p>834 rows × 31 columns</p>\n",
       "</div>"
      ],
      "text/plain": [
       "               IgG_PT   IgG_PRN    IgG_FHA   IgG1_PT  IgG1_PRN  IgG1_FHA  \\\n",
       "specimen_id                                                                \n",
       "1            3.736992  2.602350  34.050956  7.334714  2.174783  3.013252   \n",
       "19           1.096366  7.652635   1.096457  1.424098  3.161591  1.287515   \n",
       "27           2.046671  5.670403   1.048276  3.888604  2.591155  1.269821   \n",
       "37           3.798007  5.268274   0.084437  7.456313  2.760065  2.864834   \n",
       "45           0.213328  0.090176   0.379290  0.084132  0.025479  0.654192   \n",
       "...               ...       ...        ...       ...       ...       ...   \n",
       "902          1.735520  0.532952   1.224150  1.398202  2.070417  1.229332   \n",
       "883          1.566040  0.396070   0.983044  0.503570  0.327009  1.764053   \n",
       "772          1.651583  1.054186   0.703936  1.334020  1.020310  0.692335   \n",
       "745          1.388102  1.804878   1.302874  1.590380  1.731545  2.124361   \n",
       "805          1.015227  2.068089   1.491173  1.362366  1.800630  2.118669   \n",
       "\n",
       "             IgG1_FIM2/3   IgG1_TT   IgG1_DT   IgG1_OVA  ...    IgG3_TT  \\\n",
       "specimen_id                                              ...              \n",
       "1               1.188744  1.428852  2.389153   0.665203  ...   1.000000   \n",
       "19              0.322658  1.377390  1.523941  33.771912  ...   1.000000   \n",
       "27              2.621216  1.675259  2.022924   5.777047  ...   2.336770   \n",
       "37              7.487345  1.537432  2.250237   4.130732  ...   2.514246   \n",
       "45              0.681225  0.874920  0.369367  10.452881  ...   1.000000   \n",
       "...                  ...       ...       ...        ...  ...        ...   \n",
       "902             1.715939  1.389705  0.024896   0.303108  ...  19.846809   \n",
       "883             2.063735  1.525572  0.000000   0.014739  ...   0.655319   \n",
       "772             0.010939  0.911988  1.307054   4.913810  ...   0.119149   \n",
       "745             1.384233  1.243570  1.228216   7.970522  ...  19.861702   \n",
       "805             3.345177  1.359833  6.589212   5.619032  ...   0.978723   \n",
       "\n",
       "               IgG3_DT   IgG3_OVA    IgG4_PT   IgG4_PRN   IgG4_FHA  \\\n",
       "specimen_id                                                          \n",
       "1             3.358159   1.865388   1.061706  11.673594   0.880611   \n",
       "19            0.856594   1.119233   1.000000   0.733287   0.057114   \n",
       "27            0.856594   1.000000   6.582579   3.261863   1.089128   \n",
       "37           14.818885   5.446934  44.804003   1.112574  24.353645   \n",
       "45            0.856594  13.206949   1.000000   0.208993   0.984870   \n",
       "...                ...        ...        ...        ...        ...   \n",
       "902           2.076923   1.844086   2.886891  12.996768   1.518500   \n",
       "883           1.000000   0.311828   7.627528  19.975069   5.265332   \n",
       "772           0.384615   0.403226   8.119982  14.441828   0.998733   \n",
       "745           2.661538   1.319892   0.088530   0.301016   0.061835   \n",
       "805           2.046154   1.505376   1.430571  10.552170   1.392803   \n",
       "\n",
       "             IgG4_FIM2/3   IgG4_TT   IgG4_DT  IgG4_OVA  \n",
       "specimen_id                                             \n",
       "1               0.980223  3.290050  1.232849  2.622675  \n",
       "19              0.980223  0.024820  0.003253  0.053981  \n",
       "27             40.303354  1.635454  0.634256  2.021985  \n",
       "37              4.855024  0.920018  1.879391  1.569320  \n",
       "45              1.529665  3.565218  0.676574  7.648106  \n",
       "...                  ...       ...       ...       ...  \n",
       "902             2.012658  0.790889  0.588889  3.554956  \n",
       "883             1.094937  0.441748  2.922222  2.445307  \n",
       "772             0.949367  8.176064  2.000000  3.335746  \n",
       "745             0.335443  0.038462  0.533333  0.771513  \n",
       "805             1.082278  1.100822  1.144444  4.026601  \n",
       "\n",
       "[834 rows x 31 columns]"
      ]
     },
     "execution_count": 4,
     "metadata": {},
     "output_type": "execute_result"
    }
   ],
   "source": [
    "import pandas as pd\n",
    "\n",
    "df = pd.read_csv('/home/vmottaqi/cmipb_challenge/normalized_data/training_plasma_antibody_levels_wide.tsv', index_col=0, sep=\"\\t\")\n",
    "df"
   ]
  },
  {
   "cell_type": "code",
   "execution_count": null,
   "id": "23ff1910",
   "metadata": {},
   "outputs": [],
   "source": []
  },
  {
   "cell_type": "code",
   "execution_count": null,
   "id": "a601342e",
   "metadata": {},
   "outputs": [],
   "source": [
    "'''\n",
    "p01579 = Interferon gamma (Th1)\n",
    "Q16552 = IL17A\n",
    "P05113 = IL5 (Th2)\n",
    "'''"
   ]
  },
  {
   "cell_type": "code",
   "execution_count": 26,
   "id": "0e18a8c8",
   "metadata": {},
   "outputs": [
    {
     "data": {
      "text/html": [
       "<div>\n",
       "<style scoped>\n",
       "    .dataframe tbody tr th:only-of-type {\n",
       "        vertical-align: middle;\n",
       "    }\n",
       "\n",
       "    .dataframe tbody tr th {\n",
       "        vertical-align: top;\n",
       "    }\n",
       "\n",
       "    .dataframe thead th {\n",
       "        text-align: right;\n",
       "    }\n",
       "</style>\n",
       "<table border=\"1\" class=\"dataframe\">\n",
       "  <thead>\n",
       "    <tr style=\"text-align: right;\">\n",
       "      <th></th>\n",
       "      <th>specimen_id</th>\n",
       "      <th>stimulation</th>\n",
       "      <th>analyte_percentages</th>\n",
       "      <th>unit</th>\n",
       "    </tr>\n",
       "  </thead>\n",
       "  <tbody>\n",
       "    <tr>\n",
       "      <th>0</th>\n",
       "      <td>962</td>\n",
       "      <td>DMSO</td>\n",
       "      <td>0.880000</td>\n",
       "      <td>% of CD25+_OX40+ in CD4 T cells</td>\n",
       "    </tr>\n",
       "    <tr>\n",
       "      <th>1</th>\n",
       "      <td>962</td>\n",
       "      <td>PT</td>\n",
       "      <td>0.600000</td>\n",
       "      <td>% of CD25+_OX40+ in CD4 T cells</td>\n",
       "    </tr>\n",
       "    <tr>\n",
       "      <th>2</th>\n",
       "      <td>962</td>\n",
       "      <td>TT</td>\n",
       "      <td>1.230769</td>\n",
       "      <td>% of CD25+_OX40+ in CD4 T cells</td>\n",
       "    </tr>\n",
       "    <tr>\n",
       "      <th>3</th>\n",
       "      <td>965</td>\n",
       "      <td>DMSO</td>\n",
       "      <td>0.677600</td>\n",
       "      <td>% of CD25+_OX40+ in CD4 T cells</td>\n",
       "    </tr>\n",
       "    <tr>\n",
       "      <th>4</th>\n",
       "      <td>965</td>\n",
       "      <td>PT</td>\n",
       "      <td>1.250000</td>\n",
       "      <td>% of CD25+_OX40+ in CD4 T cells</td>\n",
       "    </tr>\n",
       "    <tr>\n",
       "      <th>...</th>\n",
       "      <td>...</td>\n",
       "      <td>...</td>\n",
       "      <td>...</td>\n",
       "      <td>...</td>\n",
       "    </tr>\n",
       "    <tr>\n",
       "      <th>553</th>\n",
       "      <td>1496</td>\n",
       "      <td>TT</td>\n",
       "      <td>0.838710</td>\n",
       "      <td>% of CD25+_OX40+ in CD4 T cells</td>\n",
       "    </tr>\n",
       "    <tr>\n",
       "      <th>554</th>\n",
       "      <td>1497</td>\n",
       "      <td>DMSO</td>\n",
       "      <td>0.904110</td>\n",
       "      <td>% of CD25+_OX40+ in CD4 T cells</td>\n",
       "    </tr>\n",
       "    <tr>\n",
       "      <th>555</th>\n",
       "      <td>1497</td>\n",
       "      <td>PHA</td>\n",
       "      <td>1.548317</td>\n",
       "      <td>% of CD25+_OX40+ in CD4 T cells</td>\n",
       "    </tr>\n",
       "    <tr>\n",
       "      <th>556</th>\n",
       "      <td>1497</td>\n",
       "      <td>PT</td>\n",
       "      <td>0.457831</td>\n",
       "      <td>% of CD25+_OX40+ in CD4 T cells</td>\n",
       "    </tr>\n",
       "    <tr>\n",
       "      <th>557</th>\n",
       "      <td>1497</td>\n",
       "      <td>TT</td>\n",
       "      <td>0.709677</td>\n",
       "      <td>% of CD25+_OX40+ in CD4 T cells</td>\n",
       "    </tr>\n",
       "  </tbody>\n",
       "</table>\n",
       "<p>558 rows × 4 columns</p>\n",
       "</div>"
      ],
      "text/plain": [
       "     specimen_id stimulation  analyte_percentages  \\\n",
       "0            962        DMSO             0.880000   \n",
       "1            962          PT             0.600000   \n",
       "2            962          TT             1.230769   \n",
       "3            965        DMSO             0.677600   \n",
       "4            965          PT             1.250000   \n",
       "..           ...         ...                  ...   \n",
       "553         1496          TT             0.838710   \n",
       "554         1497        DMSO             0.904110   \n",
       "555         1497         PHA             1.548317   \n",
       "556         1497          PT             0.457831   \n",
       "557         1497          TT             0.709677   \n",
       "\n",
       "                                unit  \n",
       "0    % of CD25+_OX40+ in CD4 T cells  \n",
       "1    % of CD25+_OX40+ in CD4 T cells  \n",
       "2    % of CD25+_OX40+ in CD4 T cells  \n",
       "3    % of CD25+_OX40+ in CD4 T cells  \n",
       "4    % of CD25+_OX40+ in CD4 T cells  \n",
       "..                               ...  \n",
       "553  % of CD25+_OX40+ in CD4 T cells  \n",
       "554  % of CD25+_OX40+ in CD4 T cells  \n",
       "555  % of CD25+_OX40+ in CD4 T cells  \n",
       "556  % of CD25+_OX40+ in CD4 T cells  \n",
       "557  % of CD25+_OX40+ in CD4 T cells  \n",
       "\n",
       "[558 rows x 4 columns]"
      ]
     },
     "execution_count": 26,
     "metadata": {},
     "output_type": "execute_result"
    }
   ],
   "source": [
    "df_act = pd.read_csv('/home/vmottaqi/cmipb_challenge/normalized_data/challenge_t_cell_activation_long.tsv', sep=\"\\t\")\n",
    "df_act"
   ]
  },
  {
   "cell_type": "code",
   "execution_count": null,
   "id": "e7e87730",
   "metadata": {},
   "outputs": [],
   "source": []
  },
  {
   "cell_type": "code",
   "execution_count": 27,
   "id": "b6630866",
   "metadata": {},
   "outputs": [
    {
     "name": "stdout",
     "output_type": "stream",
     "text": [
      "Number of matching specimen_ids: 52\n"
     ]
    }
   ],
   "source": [
    "# Create a union set of both day_0 and day_30 specimen IDs\n",
    "union_specimen_ids = set(df['day_0_specimen_id'])\n",
    "\n",
    "# Count how many specimen_ids from the second dataframe are in the union set\n",
    "matching_specimen_count = df_act[df_act['specimen_id'].isin(union_specimen_ids)]['specimen_id'].nunique()\n",
    "\n",
    "print(\"Number of matching specimen_ids:\", matching_specimen_count)\n",
    "\n"
   ]
  },
  {
   "cell_type": "code",
   "execution_count": null,
   "id": "154bf9a2",
   "metadata": {},
   "outputs": [],
   "source": []
  },
  {
   "cell_type": "code",
   "execution_count": 28,
   "id": "22d7c737",
   "metadata": {},
   "outputs": [
    {
     "data": {
      "text/html": [
       "<div>\n",
       "<style scoped>\n",
       "    .dataframe tbody tr th:only-of-type {\n",
       "        vertical-align: middle;\n",
       "    }\n",
       "\n",
       "    .dataframe tbody tr th {\n",
       "        vertical-align: top;\n",
       "    }\n",
       "\n",
       "    .dataframe thead th {\n",
       "        text-align: right;\n",
       "    }\n",
       "</style>\n",
       "<table border=\"1\" class=\"dataframe\">\n",
       "  <thead>\n",
       "    <tr style=\"text-align: right;\">\n",
       "      <th></th>\n",
       "      <th>day_0_specimen_id</th>\n",
       "      <th>subject_id</th>\n",
       "      <th>specimen_type</th>\n",
       "      <th>infancy_vac</th>\n",
       "      <th>biological_sex</th>\n",
       "      <th>ethnicity</th>\n",
       "      <th>race</th>\n",
       "      <th>dataset</th>\n",
       "      <th>age</th>\n",
       "      <th>day_0_IL17A_DMSO</th>\n",
       "      <th>...</th>\n",
       "      <th>day_0_Th1_DMSO</th>\n",
       "      <th>day_0_Th1_PHA</th>\n",
       "      <th>day_0_Th1_PT</th>\n",
       "      <th>day_0_Th2_DMSO</th>\n",
       "      <th>day_0_Th2_PHA</th>\n",
       "      <th>day_0_Th2_PT</th>\n",
       "      <th>day_0_DMSO_activation</th>\n",
       "      <th>day_0_PHA_activation</th>\n",
       "      <th>day_0_PT_activation</th>\n",
       "      <th>day_0_TT_activation</th>\n",
       "    </tr>\n",
       "  </thead>\n",
       "  <tbody>\n",
       "    <tr>\n",
       "      <th>0</th>\n",
       "      <td>943</td>\n",
       "      <td>170</td>\n",
       "      <td>Blood</td>\n",
       "      <td>wP</td>\n",
       "      <td>Male</td>\n",
       "      <td>Not Hispanic or Latino</td>\n",
       "      <td>White</td>\n",
       "      <td>2023_dataset</td>\n",
       "      <td>31</td>\n",
       "      <td>1.0</td>\n",
       "      <td>...</td>\n",
       "      <td>1.0</td>\n",
       "      <td>1.013822</td>\n",
       "      <td>1.865810</td>\n",
       "      <td>1.0</td>\n",
       "      <td>1.287943</td>\n",
       "      <td>1.000000</td>\n",
       "      <td>3.287671</td>\n",
       "      <td>1.179153</td>\n",
       "      <td>2.337349</td>\n",
       "      <td>4.290323</td>\n",
       "    </tr>\n",
       "    <tr>\n",
       "      <th>1</th>\n",
       "      <td>957</td>\n",
       "      <td>172</td>\n",
       "      <td>Blood</td>\n",
       "      <td>wP</td>\n",
       "      <td>Male</td>\n",
       "      <td>Not Hispanic or Latino</td>\n",
       "      <td>White</td>\n",
       "      <td>2023_dataset</td>\n",
       "      <td>36</td>\n",
       "      <td>1.0</td>\n",
       "      <td>...</td>\n",
       "      <td>1.0</td>\n",
       "      <td>1.097319</td>\n",
       "      <td>1.074494</td>\n",
       "      <td>1.0</td>\n",
       "      <td>1.302600</td>\n",
       "      <td>1.000000</td>\n",
       "      <td>0.171233</td>\n",
       "      <td>1.176982</td>\n",
       "      <td>0.074699</td>\n",
       "      <td>0.087097</td>\n",
       "    </tr>\n",
       "    <tr>\n",
       "      <th>2</th>\n",
       "      <td>966</td>\n",
       "      <td>129</td>\n",
       "      <td>Blood</td>\n",
       "      <td>wP</td>\n",
       "      <td>Male</td>\n",
       "      <td>Not Hispanic or Latino</td>\n",
       "      <td>White</td>\n",
       "      <td>2023_dataset</td>\n",
       "      <td>31</td>\n",
       "      <td>1.0</td>\n",
       "      <td>...</td>\n",
       "      <td>1.0</td>\n",
       "      <td>2.520558</td>\n",
       "      <td>0.548024</td>\n",
       "      <td>1.0</td>\n",
       "      <td>3.363031</td>\n",
       "      <td>5.417781</td>\n",
       "      <td>0.315200</td>\n",
       "      <td>NaN</td>\n",
       "      <td>0.283333</td>\n",
       "      <td>1.000000</td>\n",
       "    </tr>\n",
       "    <tr>\n",
       "      <th>3</th>\n",
       "      <td>977</td>\n",
       "      <td>139</td>\n",
       "      <td>Blood</td>\n",
       "      <td>wP</td>\n",
       "      <td>Female</td>\n",
       "      <td>Not Hispanic or Latino</td>\n",
       "      <td>Asian</td>\n",
       "      <td>2023_dataset</td>\n",
       "      <td>29</td>\n",
       "      <td>1.0</td>\n",
       "      <td>...</td>\n",
       "      <td>1.0</td>\n",
       "      <td>2.042053</td>\n",
       "      <td>1.253108</td>\n",
       "      <td>1.0</td>\n",
       "      <td>5.573117</td>\n",
       "      <td>2.378297</td>\n",
       "      <td>1.200000</td>\n",
       "      <td>NaN</td>\n",
       "      <td>0.683333</td>\n",
       "      <td>0.300000</td>\n",
       "    </tr>\n",
       "    <tr>\n",
       "      <th>4</th>\n",
       "      <td>987</td>\n",
       "      <td>162</td>\n",
       "      <td>Blood</td>\n",
       "      <td>aP</td>\n",
       "      <td>Female</td>\n",
       "      <td>Not Hispanic or Latino</td>\n",
       "      <td>White</td>\n",
       "      <td>2023_dataset</td>\n",
       "      <td>24</td>\n",
       "      <td>1.0</td>\n",
       "      <td>...</td>\n",
       "      <td>1.0</td>\n",
       "      <td>0.666855</td>\n",
       "      <td>0.530832</td>\n",
       "      <td>1.0</td>\n",
       "      <td>1.000000</td>\n",
       "      <td>226.500000</td>\n",
       "      <td>13.150685</td>\n",
       "      <td>0.453855</td>\n",
       "      <td>2.048193</td>\n",
       "      <td>0.645161</td>\n",
       "    </tr>\n",
       "  </tbody>\n",
       "</table>\n",
       "<p>5 rows × 22 columns</p>\n",
       "</div>"
      ],
      "text/plain": [
       "   day_0_specimen_id  subject_id specimen_type infancy_vac biological_sex  \\\n",
       "0                943         170         Blood          wP           Male   \n",
       "1                957         172         Blood          wP           Male   \n",
       "2                966         129         Blood          wP           Male   \n",
       "3                977         139         Blood          wP         Female   \n",
       "4                987         162         Blood          aP         Female   \n",
       "\n",
       "                ethnicity   race       dataset  age  day_0_IL17A_DMSO  ...  \\\n",
       "0  Not Hispanic or Latino  White  2023_dataset   31               1.0  ...   \n",
       "1  Not Hispanic or Latino  White  2023_dataset   36               1.0  ...   \n",
       "2  Not Hispanic or Latino  White  2023_dataset   31               1.0  ...   \n",
       "3  Not Hispanic or Latino  Asian  2023_dataset   29               1.0  ...   \n",
       "4  Not Hispanic or Latino  White  2023_dataset   24               1.0  ...   \n",
       "\n",
       "   day_0_Th1_DMSO  day_0_Th1_PHA  day_0_Th1_PT  day_0_Th2_DMSO  day_0_Th2_PHA  \\\n",
       "0             1.0       1.013822      1.865810             1.0       1.287943   \n",
       "1             1.0       1.097319      1.074494             1.0       1.302600   \n",
       "2             1.0       2.520558      0.548024             1.0       3.363031   \n",
       "3             1.0       2.042053      1.253108             1.0       5.573117   \n",
       "4             1.0       0.666855      0.530832             1.0       1.000000   \n",
       "\n",
       "   day_0_Th2_PT  day_0_DMSO_activation  day_0_PHA_activation  \\\n",
       "0      1.000000               3.287671              1.179153   \n",
       "1      1.000000               0.171233              1.176982   \n",
       "2      5.417781               0.315200                   NaN   \n",
       "3      2.378297               1.200000                   NaN   \n",
       "4    226.500000              13.150685              0.453855   \n",
       "\n",
       "   day_0_PT_activation  day_0_TT_activation  \n",
       "0             2.337349             4.290323  \n",
       "1             0.074699             0.087097  \n",
       "2             0.283333             1.000000  \n",
       "3             0.683333             0.300000  \n",
       "4             2.048193             0.645161  \n",
       "\n",
       "[5 rows x 22 columns]"
      ]
     },
     "execution_count": 28,
     "metadata": {},
     "output_type": "execute_result"
    }
   ],
   "source": [
    "# MERGING  actiavtion with polarization datasets\n",
    "\n",
    "# Pivot df_act for merging\n",
    "df_act_pivot = df_act.pivot(index='specimen_id', columns='stimulation', values='analyte_percentages')\n",
    "df_act_pivot.rename(columns={\n",
    "    'DMSO': 'day_0_DMSO_activation',\n",
    "    'PHA': 'day_0_PHA_activation',\n",
    "    'PT': 'day_0_PT_activation',\n",
    "    'TT': 'day_0_TT_activation'\n",
    "}, inplace=True)\n",
    "df_act_pivot.reset_index(inplace=True)\n",
    "\n",
    "# Merge with df\n",
    "df_final = df.merge(df_act_pivot, how='left', left_on='day_0_specimen_id', right_on='specimen_id')\n",
    "df_final.drop('specimen_id', axis=1, inplace=True)\n",
    "\n",
    "# Check the result\n",
    "df_final.head()"
   ]
  },
  {
   "cell_type": "code",
   "execution_count": 29,
   "id": "591a3e17",
   "metadata": {},
   "outputs": [],
   "source": [
    "df_final.to_csv(\"/home/vmottaqi/cmipb_challenge/vincent_files/challenge_t_cell_processed_task4.1_nov17.csv\")"
   ]
  },
  {
   "cell_type": "code",
   "execution_count": null,
   "id": "c3cda82f",
   "metadata": {},
   "outputs": [],
   "source": []
  }
 ],
 "metadata": {
  "kernelspec": {
   "display_name": "mcf7",
   "language": "python",
   "name": "python3"
  },
  "language_info": {
   "codemirror_mode": {
    "name": "ipython",
    "version": 3
   },
   "file_extension": ".py",
   "mimetype": "text/x-python",
   "name": "python",
   "nbconvert_exporter": "python",
   "pygments_lexer": "ipython3",
   "version": "3.12.0"
  }
 },
 "nbformat": 4,
 "nbformat_minor": 5
}
